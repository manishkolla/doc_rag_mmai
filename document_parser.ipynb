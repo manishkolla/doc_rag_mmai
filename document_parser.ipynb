{
 "cells": [
  {
   "cell_type": "code",
   "execution_count": 3,
   "id": "546ddaae",
   "metadata": {},
   "outputs": [
    {
     "name": "stdout",
     "output_type": "stream",
     "text": [
      "  → Processed \"paper1.pdf\" (28 pages)\n",
      "  → Processed \"paper10.pdf\" (2 pages)\n",
      "  → Processed \"paper11.pdf\" (3 pages)\n",
      "  → Processed \"paper12.pdf\" (13 pages)\n",
      "  → Processed \"paper13.pdf\" (28 pages)\n",
      "  → Processed \"paper14.pdf\" (13 pages)\n",
      "  → Processed \"paper15.pdf\" (13 pages)\n",
      "  → Processed \"paper16.pdf\" (17 pages)\n",
      "  → Processed \"paper17.pdf\" (15 pages)\n",
      "  → Processed \"paper18.pdf\" (22 pages)\n",
      "  → Processed \"paper19.pdf\" (11 pages)\n",
      "  → Processed \"paper2.pdf\" (14 pages)\n",
      "  → Processed \"paper20.pdf\" (8 pages)\n",
      "  → Processed \"paper21.pdf\" (24 pages)\n",
      "  → Processed \"paper3.pdf\" (13 pages)\n",
      "  → Processed \"paper4.pdf\" (15 pages)\n",
      "  → Processed \"paper5.pdf\" (11 pages)\n",
      "  → Processed \"paper6.pdf\" (9 pages)\n",
      "  → Processed \"paper7.pdf\" (6 pages)\n",
      "  → Processed \"paper8.pdf\" (11 pages)\n",
      "  → Processed \"paper9.pdf\" (4 pages)\n",
      "All done! Combined CSV written to:\n",
      "  papers_adhd_csvs\\all_papers.csv\n"
     ]
    }
   ],
   "source": [
    "import os\n",
    "import csv\n",
    "from PyPDF2 import PdfReader\n",
    "\n",
    "INPUT_DIR = 'papers_adhd'\n",
    "OUTPUT_DIR = 'papers_adhd_csvs'\n",
    "os.makedirs(OUTPUT_DIR, exist_ok=True)\n",
    "\n",
    "output_csv = os.path.join(OUTPUT_DIR, 'all_papers.csv')\n",
    "\n",
    "with open(output_csv, mode='w', encoding='utf-8', newline='') as csvfile:\n",
    "    writer = csv.writer(\n",
    "        csvfile,\n",
    "        quoting=csv.QUOTE_MINIMAL,    # only quote fields when needed\n",
    "        quotechar='\"',                # wrap fields containing special chars in \"\n",
    "        escapechar='\\\\'               # escape embedded quotechars with backslash\n",
    "    )\n",
    "    writer.writerow(['page_text', 'source_file', 'page_number'])\n",
    "\n",
    "    for fname in os.listdir(INPUT_DIR):\n",
    "        if not fname.lower().endswith('.pdf'):\n",
    "            continue\n",
    "\n",
    "        pdf_path = os.path.join(INPUT_DIR, fname)\n",
    "        try:\n",
    "            reader = PdfReader(pdf_path)\n",
    "        except Exception as e:\n",
    "            print(f'[!] Could not open \"{fname}\": {e}')\n",
    "            continue\n",
    "\n",
    "        for page_num, page in enumerate(reader.pages, start=1):\n",
    "            try:\n",
    "                text = page.extract_text() or ''\n",
    "            except Exception as e:\n",
    "                text = f'[Error on page {page_num}: {e}]'\n",
    "\n",
    "            # remove any null bytes that can break the CSV writer\n",
    "            text = text.replace('\\x00', '')\n",
    "\n",
    "            writer.writerow([text, fname, page_num])\n",
    "\n",
    "        print(f'  → Processed \"{fname}\" ({len(reader.pages)} pages)')\n",
    "\n",
    "print(f'All done! Combined CSV written to:\\n  {output_csv}')\n"
   ]
  },
  {
   "cell_type": "code",
   "execution_count": null,
   "id": "0646db1e",
   "metadata": {},
   "outputs": [
    {
     "data": {
      "text/plain": [
       "0    Exploring N-Back Cognitive Training for Childr...\n",
       "1    prevalence of ADHD, the chances are high that ...\n",
       "2    these interventions, teachers (behavioral clas...\n",
       "3    inhibition and working memory-demanding execut...\n",
       "4    learning or attention disorders. Based on our ...\n",
       "5    consisted of 80 children ( mean age : 10.14 ye...\n",
       "6    task presented participants with images at one...\n",
       "7    training task, which was adaptive, the n-back ...\n",
       "8    level. For example, if a child successfully co...\n",
       "9    used to measure participants’ broad math skill...\n",
       "Name: page_text, dtype: object"
      ]
     },
     "execution_count": 5,
     "metadata": {},
     "output_type": "execute_result"
    }
   ],
   "source": [
    "import pandas as pd\n",
    "\n",
    "# df= pd.read_csv(r\"papers_adhd_csvs/all_papers.csv\", encoding='utf-8', escapechar='\\\\')\n",
    "df= pd.read_csv(r\"papers_adhd_csvs/all_papers.csv\", encoding='utf-8')\n",
    "# df['page_text'] = df['page_text'].str.replace(r'\\\\', '', regex=True)\n",
    "max_length = df['page_text'].str.len().max()"
   ]
  }
 ],
 "metadata": {
  "kernelspec": {
   "display_name": "Python 3",
   "language": "python",
   "name": "python3"
  },
  "language_info": {
   "codemirror_mode": {
    "name": "ipython",
    "version": 3
   },
   "file_extension": ".py",
   "mimetype": "text/x-python",
   "name": "python",
   "nbconvert_exporter": "python",
   "pygments_lexer": "ipython3",
   "version": "3.10.11"
  }
 },
 "nbformat": 4,
 "nbformat_minor": 5
}
