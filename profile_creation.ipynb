{
 "cells": [
  {
   "cell_type": "code",
   "execution_count": 1,
   "id": "0409c187",
   "metadata": {},
   "outputs": [],
   "source": [
    "import google.generativeai as genai\n",
    "from dotenv import load_dotenv\n",
    "import os\n",
    "import requests\n",
    "from io import BytesIO\n",
    "import glob\n",
    "import os\n",
    "from IPython.display import Markdown, display\n",
    "\n",
    "# Load environment variables from the .env file\n",
    "load_dotenv()\n",
    "\n",
    "# Retrieve the API key from the environment variable\n",
    "GOOGLE_API_KEY = os.getenv('GOOGLE_API_KEY')\n",
    "genai.configure(api_key=GOOGLE_API_KEY)\n",
    "generation_config = genai.GenerationConfig(\n",
    "    temperature=0.0,\n",
    "    response_mime_type=\"application/json\"\n",
    ")"
   ]
  },
  {
   "cell_type": "code",
   "execution_count": 2,
   "id": "33734bc1",
   "metadata": {},
   "outputs": [],
   "source": [
    "system_instruction_prompt= \"\"\"\n",
    "You are a Cognitive Specialist AI. Your task is to refer to the attached papers, then generate factual, score‑driven descriptions for a “Child Profile” JSON object. Do not invent data or hallucinate—only use established research-based language.  \n",
    "\n",
    "When prompted, you will receive:  \n",
    "1. One or more uploaded PDF resource papers.  \n",
    "2. A JSON skeleton with numeric scores and empty description fields (as in the example below).  \n",
    "\n",
    "Your job is to populate every `\"description\"` or summary and also modalities of the kids profile field based strictly on the score values and established cognitive‑domain definitions in the reference material. Output **only** the completed JSON object—no extra commentary, no markdown, and no omitted fields.  \n",
    "\n",
    "Example input schema:\n",
    "```json\n",
    "{\n",
    "  \"name\": \"Kid\",\n",
    "  \"gender\": \"\",\n",
    "  \"age\": 1,\n",
    "  \"diagnosis\": \"not identified\",\n",
    "  \"cognitiveDomainProfile\": {\n",
    "    \"workingMemory\": {\n",
    "      \"score\": 72,\n",
    "      \"description\": \"\"\n",
    "    },\n",
    "    \"processingSpeed\": {\n",
    "      \"score\": 68,\n",
    "      \"description\": \"\"\n",
    "    },\n",
    "    \"attentionSpan\": {\n",
    "      \"visualAttention\": {\n",
    "        \"score\": 65,\n",
    "        \"description\": \"\"\n",
    "      },\n",
    "      \"auditoryAttention\": {\n",
    "        \"score\": 70,\n",
    "        \"description\": \"\"\n",
    "      }\n",
    "    }\n",
    "  },\n",
    "  \"executiveFunction\": {\n",
    "    \"planning\": 4,\n",
    "    \"impulseControl\": 3,\n",
    "    \"description\": \"\"\n",
    "  },\n",
    "  \"learningPreferences\": {\n",
    "    \"modalities\": [],\n",
    "    \"description\": \"\"\n",
    "  },\n",
    "  \"learningChallengesSummary\": {\n",
    "    \"attentionAndFocus\": \"\",\n",
    "    \"memoryAndSpeed\": \"\",\n",
    "    \"planningAndImpulsivity\": \"\",\n",
    "    \"strengths\": \"\"\n",
    "  }\n",
    "}\n",
    "\n",
    "\n",
    " \"\"\""
   ]
  },
  {
   "cell_type": "code",
   "execution_count": 3,
   "id": "8635188a",
   "metadata": {},
   "outputs": [],
   "source": [
    "profile1 = {\n",
    "  \"name\": \"Kid\",\n",
    "  \"gender\": \"male\",\n",
    "  \"age\": 13,\n",
    "  \"diagnosis\": \"Not formally diagnosed, but exhibiting early symptoms suggestive of attention deficit hyperactivity disorder (ADHD)\",\n",
    "  \"cognitiveDomainProfile\": {\n",
    "    \"workingMemory\": {\n",
    "      \"score\": 85,\n",
    "      \"description\": \"\"\n",
    "    },\n",
    "    \"processingSpeed\": {\n",
    "      \"score\": 78,\n",
    "      \"description\": \"\"\n",
    "    },\n",
    "    \"attentionSpan\": {\n",
    "      \"visualAttention\": {\n",
    "        \"score\": 80,\n",
    "        \"description\": \"\"\n",
    "      },\n",
    "      \"auditoryAttention\": {\n",
    "        \"score\": 75,\n",
    "        \"description\": \"\"\n",
    "      }\n",
    "    }\n",
    "  },\n",
    "  \"executiveFunction\": {\n",
    "    \"planning\": 6,\n",
    "    \"impulseControl\": 6,\n",
    "    \"description\": \"\"\n",
    "  },\n",
    "  \"learningPreferences\": {\n",
    "    \"modalities\": [],\n",
    "    \"description\": \"\"\n",
    "  },\n",
    "  \"learningChallengesSummary\": {\n",
    "    \"attentionAndFocus\": \"\",\n",
    "    \"memoryAndSpeed\": \"\",\n",
    "    \"planningAndImpulsivity\": \"\",\n",
    "    \"strengths\": \"\"\n",
    "  }\n",
    "}\n",
    "\n",
    "\n",
    "profile2= {\n",
    "  \"name\": \"Kid\",\n",
    "  \"gender\": \"female\",\n",
    "  \"age\": 13,\n",
    "  \"diagnosis\": \"Attention Deficit Hyperactivity Disorder (ADHD)\",\n",
    "  \"cognitiveDomainProfile\": {\n",
    "    \"workingMemory\": {\n",
    "      \"score\": 85,\n",
    "      \"description\": \"\"\n",
    "    },\n",
    "    \"processingSpeed\": {\n",
    "      \"score\": 78,\n",
    "      \"description\": \"\"\n",
    "    },\n",
    "    \"attentionSpan\": {\n",
    "      \"visualAttention\": {\n",
    "        \"score\": 80,\n",
    "        \"description\": \"\"\n",
    "      },\n",
    "      \"auditoryAttention\": {\n",
    "        \"score\": 75,\n",
    "        \"description\": \"\"\n",
    "      }\n",
    "    }\n",
    "  },\n",
    "  \"executiveFunction\": {\n",
    "    \"planning\": 6,\n",
    "    \"impulseControl\": 6,\n",
    "    \"description\": \"\"\n",
    "  },\n",
    "  \"learningPreferences\": {\n",
    "    \"modalities\": [],\n",
    "    \"description\": \"\"\n",
    "  },\n",
    "  \"learningChallengesSummary\": {\n",
    "    \"attentionAndFocus\": \"\",\n",
    "    \"memoryAndSpeed\": \"\",\n",
    "    \"planningAndImpulsivity\": \"\",\n",
    "    \"strengths\": \"\"\n",
    "  }\n",
    "}\n",
    "\n",
    "profile3= {\n",
    "  \"name\": \"Kid\",\n",
    "  \"gender\": \"female\",\n",
    "  \"age\": 13,\n",
    "  \"diagnosis\": \"Identified as Gifted and Talented (IQ > 130)\",\n",
    "  \"cognitiveDomainProfile\": {\n",
    "    \"workingMemory\": {\n",
    "      \"score\": 135,\n",
    "      \"description\": \"\"\n",
    "    },\n",
    "    \"processingSpeed\": {\n",
    "      \"score\": 140,\n",
    "      \"description\": \"\"\n",
    "    },\n",
    "    \"attentionSpan\": {\n",
    "      \"visualAttention\": {\n",
    "        \"score\": 145,\n",
    "        \"description\": \"\"\n",
    "      },\n",
    "      \"auditoryAttention\": {\n",
    "        \"score\": 142,\n",
    "        \"description\": \"\"\n",
    "      }\n",
    "    }\n",
    "  },\n",
    "  \"executiveFunction\": {\n",
    "    \"planning\": 10,\n",
    "    \"impulseControl\": 9,\n",
    "    \"description\": \"\"\n",
    "  },\n",
    "  \"learningPreferences\": {\n",
    "    \"modalities\": [],\n",
    "    \"description\": \"\"\n",
    "  },\n",
    "  \"learningChallengesSummary\": {\n",
    "    \"attentionAndFocus\": \"\",\n",
    "    \"memoryAndSpeed\": \"\",\n",
    "    \"planningAndImpulsivity\": \"\",\n",
    "    \"strengths\": \"\"\n",
    "  }\n",
    "}\n",
    "\n",
    "\n",
    "profile4 = {\n",
    "  \"name\": \"College Student\",\n",
    "  \"gender\": \"female\",\n",
    "  \"age\": 21,\n",
    "  \"diagnosis\": \"Identified as Gifted and Talented (IQ > 130)\",\n",
    "  \"cognitiveDomainProfile\": {\n",
    "    \"workingMemory\": {\n",
    "      \"score\": 145,\n",
    "      \"description\": \"Exhibits exceptional working memory, retaining and manipulating multiple complex ideas simultaneously—great for advanced coursework and research.\"\n",
    "    },\n",
    "    \"processingSpeed\": {\n",
    "      \"score\": 150,\n",
    "      \"description\": \"Processes new information extremely quickly, routinely completing readings and problem sets faster than peers.\"\n",
    "    },\n",
    "    \"attentionSpan\": {\n",
    "      \"visualAttention\": {\n",
    "        \"score\": 148,\n",
    "        \"description\": \"Maintains deep focus on visual materials (diagrams, slides, code) for extended periods without fatigue.\"\n",
    "      },\n",
    "      \"auditoryAttention\": {\n",
    "        \"score\": 149,\n",
    "        \"description\": \"Absorbs and integrates spoken lectures and discussions rapidly, rarely missing nuanced details even in fast‑paced seminars.\"\n",
    "      }\n",
    "    }\n",
    "  },\n",
    "  \"executiveFunction\": {\n",
    "    \"planning\": 10,\n",
    "    \"impulseControl\": 10,\n",
    "    \"description\": \"Demonstrates immaculate organizational skills and self‑regulation, balancing a full course load, research projects, and extracurriculars with ease.\"\n",
    "  },\n",
    "  \"learningPreferences\": {\n",
    "    \"modalities\": [\"Visual\", \"Auditory\", \"Kinesthetic\"],\n",
    "    \"description\": \"Thrives on a mix of interactive lectures, hands‑on labs, and visual aids—often sketching mind‑maps or models to solidify understanding.\"\n",
    "  },\n",
    "  \"learningChallengesSummary\": {\n",
    "    \"attentionAndFocus\": \"Rarely distracted, though finds repetitive tasks unstimulating and may seek novelty.\",\n",
    "    \"memoryAndSpeed\": \"Outstanding recall of concepts and facts; occasionally experiences overload when retrieving very granular details.\",\n",
    "    \"planningAndImpulsivity\": \"Excels at long‑term planning; may procrastinate on assignments perceived as low‑challenge.\",\n",
    "    \"strengths\": \"Creative problem‑solving, rapid insight generation, and advanced pattern recognition across disciplines.\"\n",
    "  }\n",
    "}"
   ]
  },
  {
   "cell_type": "code",
   "execution_count": 4,
   "id": "55828825",
   "metadata": {},
   "outputs": [
    {
     "name": "stdout",
     "output_type": "stream",
     "text": [
      "['papers_profiles\\\\Assessing executive functions in children.pdf', 'papers_profiles\\\\Assessments Related to the Physical, Affective and Cognitive Domains of Physical Literacy.pdf', 'papers_profiles\\\\Auditory and Visual Attention in Normal and ADHD-Inattentive subtype Children.pdf', 'papers_profiles\\\\Domains of cognition and their assessment.pdf', 'papers_profiles\\\\Evidence-based Assessment of Cognitive Functioning.pdf', 'papers_profiles\\\\Mapping Normative Trajectories of Cognitive.pdf', 'papers_profiles\\\\Measurement of Cognition for the.pdf', 'papers_profiles\\\\wisc-v-interpretive-report.pdf', 'papers_profiles\\\\wms-iv-interpretive-report-sample-female.pdf']\n"
     ]
    }
   ],
   "source": [
    "pattern = os.path.join(\"papers_profiles\", \"*.pdf\")\n",
    "pdf_paths = glob.glob(pattern)\n",
    "\n",
    "print(pdf_paths)"
   ]
  },
  {
   "cell_type": "code",
   "execution_count": 5,
   "id": "e98e25b9",
   "metadata": {},
   "outputs": [
    {
     "name": "stdout",
     "output_type": "stream",
     "text": [
      "{\"name\": \"Kid\", \"gender\": \"male\", \"age\": 13, \"diagnosis\": \"Not formally diagnosed, but exhibiting early symptoms suggestive of attention deficit hyperactivity disorder (ADHD)\", \"cognitiveDomainProfile\": {\"workingMemory\": {\"score\": 85, \"description\": \"Kid's working memory is within the average range. He exhibits adequate skills in registering, maintaining, and manipulating both visual and auditory information in conscious awareness. He can effectively utilize these skills for problem-solving, demonstrating proficiency in recalling and sequencing series of pictures and lists of numbers.\"}, \"processingSpeed\": {\"score\": 78, \"description\": \"Kid demonstrates average processing speed, indicating an adequate rate of mental operations. His reaction time to stimuli and completion time for mental activities are within the typical range for his age. This suggests efficient short-term memory scanning and inspection times for perceptual comparisons.\"}, \"attentionSpan\": {\"visualAttention\": {\"score\": 80, \"description\": \"Kid's visual attention falls within the average range. He can effectively focus on visual information and maintain attention to detail, although this may not be his strongest cognitive domain.\"}, \"auditoryAttention\": {\"score\": 75, \"description\": \"Kid's auditory attention is within the average range. He can adequately focus on auditory information and discriminate between different sounds, although there may be some variability in his performance depending on the task demands and presentation format.\"}}}, \"executiveFunction\": {\"planning\": 6, \"impulseControl\": 6, \"description\": \"Kid's executive functions, encompassing planning and impulse control, are developing appropriately for his age. He can effectively manage multiple cognitive abilities to solve problems, plan for the future, and demonstrate cognitive flexibility in adapting to novel situations. However, further development and refinement of these skills are expected throughout adolescence.\"}, \"learningPreferences\": {\"modalities\": [\"auditory\", \"visual\"], \"description\": \"Kid exhibits a balanced preference for both auditory and visual learning modalities. He can effectively process information presented in both formats, although his working memory may be slightly stronger for auditory information. This suggests that he can benefit from a variety of learning experiences that incorporate both modalities.\"}, \"learningChallengesSummary\": {\"attentionAndFocus\": \"While Kid's attention and focus are generally within the average range, he may experience some challenges with sustained attention, particularly in visually demanding tasks. He may benefit from strategies to minimize distractions and enhance his focus during visually-intensive activities.\", \"memoryAndSpeed\": \"Kid's memory and processing speed are within the average range for his age. He demonstrates adequate skills in encoding, storing, and retrieving information, as well as performing mental operations at a typical rate. However, his visual memory may be a relative weakness compared to his visual working memory, suggesting potential challenges with recalling visual details over time.\", \"planningAndImpulsivity\": \"Kid's planning and impulse control are developing appropriately for his age. He can effectively manage multiple cognitive abilities for problem-solving and demonstrate cognitive flexibility. However, he may exhibit some impulsivity in certain situations, particularly when faced with novel or complex tasks.\", \"strengths\": \"Kid's strengths lie in his verbal comprehension, fluid reasoning, and processing speed. He demonstrates advanced abilities in accessing and applying acquired word knowledge, solving complex problems using logic, and making quick and accurate decisions. These strengths can be leveraged to support his learning and development in other areas.\"}}\n"
     ]
    }
   ],
   "source": [
    "model = genai.GenerativeModel(\n",
    "    model_name='models/gemini-1.5-pro',           \n",
    "    system_instruction=system_instruction_prompt,  \n",
    "    generation_config=generation_config,\n",
    "       \n",
    ")\n",
    "\n",
    "# pdf_paths = [\n",
    "#     \"papers_profiles\\Assessing executive functions in children.pdf\",\n",
    "#     \"papers_profiles\\Assessments Related to the Physical, Affective and Cognitive Domains of Physical Literacy.pdf\",\n",
    "#     \"papers_profiles\\Mapping Normative Trajectories of Cognitive.pdf\",\n",
    "#     \"papers_profiles\\Domains of cognition and their assessment.pdf\",\n",
    "#     \"papers_profiles\\Evidence-based Assessment of Cognitive Functioning.pdf\",\n",
    "#     \"papers_profiles\\Measurement of Cognition for the.pdf\",\n",
    "#     \"papers_profiles\\Auditory and Visual Attention in Normal and ADHD-Inattentive subtype Children.pdf\"\n",
    "# ]\n",
    "\n",
    "\n",
    "# build the pattern to match all .pdf files in that folder\n",
    "\n",
    "\n",
    "# 5) Upload each PDF\n",
    "pdf_files = [\n",
    "    genai.upload_file(path=path, mime_type=\"application/pdf\")\n",
    "    for path in pdf_paths\n",
    "]  # returns a list of File objects :contentReference[oaicite:0]{index=0}\n",
    "\n",
    "# 6) Ask Gemini to read all three before answering\n",
    "user_prompt = \"\"\"\n",
    "Please read the attached papers and use them to fill in the JSON skeleton below. {kid_profile}\n",
    "The JSON object should be a complete and accurate representation of the child's cognitive profile including the modalities, based on the provided scores and the information in the papers. Ensure that all fields are populated according to the guidelines in the system instruction prompt.\n",
    "\"\"\"\n",
    "\n",
    "response = model.generate_content(\n",
    "    pdf_files + [user_prompt.format(kid_profile=profile1)], \n",
    ")\n",
    "\n",
    "print(response.text)\n",
    "completed_profile1 = response.text"
   ]
  },
  {
   "cell_type": "code",
   "execution_count": 6,
   "id": "df21f739",
   "metadata": {},
   "outputs": [
    {
     "name": "stdout",
     "output_type": "stream",
     "text": [
      "{\"name\": \"Kid\", \"gender\": \"female\", \"age\": 13, \"diagnosis\": \"Attention Deficit Hyperactivity Disorder (ADHD)\", \"cognitiveDomainProfile\": {\"workingMemory\": {\"score\": 85, \"description\": \"Kid's working memory is within the average range for her age, reflecting an age-appropriate ability to register, maintain, and manipulate visual and auditory information in conscious awareness.  She demonstrates adequate attention, concentration, and auditory and visual discrimination skills for her age.\"}, \"processingSpeed\": {\"score\": 78, \"description\": \"Kid's processing speed is within the average range. This suggests an average rate at which she performs mental operations, including an average reaction time to stimuli and time needed to perform mental activities.  Her processing speed may be a relative weakness compared to other cognitive domains.\"}, \"attentionSpan\": {\"visualAttention\": {\"score\": 80, \"description\": \"Kid's visual attention falls within the average range, suggesting adequate ability to maintain focus on visual information and resist distractions for her age.  However, visual attention may be a relative weakness compared to other domains.\"}, \"auditoryAttention\": {\"score\": 75, \"description\": \"Kid's auditory attention is within the average range, suggesting adequate ability to focus on auditory information and resist distractions for her age. Auditory attention may be a relative weakness compared to other domains and may benefit from further evaluation.\"}}}, \"executiveFunction\": {\"planning\": 6, \"impulseControl\": 6, \"description\": \"Kid demonstrates some emerging planning and organizational skills, as well as impulse control, for her age.  She may benefit from practice with tasks requiring planning, organization, and impulse control, such as the Tower of London or other problem-solving tasks.  Her performance may be influenced by ongoing development of executive functions, which continues to mature into adolescence.\"}, \"learningPreferences\": {\"modalities\": [\"auditory\", \"visual\"], \"description\": \"Kid may benefit from a multi-sensory approach to learning, incorporating both auditory and visual modalities.  Given her average visual attention and relatively stronger auditory attention, she may benefit from incorporating auditory learning strategies, such as listening to recordings or participating in discussions, in addition to visual learning strategies, such as reading or viewing diagrams.\"}, \"learningChallengesSummary\": {\"attentionAndFocus\": \"Kid's attention and focus are within the average range for her age, but may be relative weaknesses compared to other cognitive domains.  She may benefit from strategies to improve attention and focus, such as minimizing distractions, breaking down tasks into smaller steps, and using external aids such as checklists or timers.\", \"memoryAndSpeed\": \"Kid's memory and processing speed are within the average range for her age.  However, her processing speed may be a relative weakness compared to other cognitive domains, and her working memory may be impacted by the modality of information presented.  She may benefit from strategies to improve processing speed, such as speeded practice with simple tasks, and from using a multi-sensory approach to learning to support working memory.\", \"planningAndImpulsivity\": \"Kid demonstrates some emerging planning and organizational skills, as well as impulse control, for her age.  However, these skills may be relative weaknesses compared to other cognitive domains and may benefit from further development through practice and environmental supports.\", \"strengths\": \"Kid's overall cognitive ability is in the Extremely High range, suggesting strong cognitive potential.  Her fluid reasoning skills are particularly strong, indicating advanced logical thinking and problem-solving abilities.  She also demonstrates strong verbal comprehension skills, suggesting a well-developed verbal reasoning system and strong word knowledge acquisition.  These strengths can be leveraged to support her learning and development in areas where she may experience challenges.\"}}\n"
     ]
    }
   ],
   "source": [
    "response = model.generate_content(\n",
    "    pdf_files + [user_prompt.format(kid_profile=profile2)], \n",
    ")\n",
    "\n",
    "print(response.text)\n",
    "completed_profile2 = response.text"
   ]
  },
  {
   "cell_type": "code",
   "execution_count": 7,
   "id": "c107fcf8",
   "metadata": {},
   "outputs": [
    {
     "name": "stdout",
     "output_type": "stream",
     "text": [
      "{\"name\": \"Kid\", \"gender\": \"female\", \"age\": 13, \"diagnosis\": \"Identified as Gifted and Talented (IQ > 130)\", \"cognitiveDomainProfile\": {\"workingMemory\": {\"score\": 135, \"description\": \"Kid exhibits an exceptional ability to register, maintain, and manipulate visual and auditory information in conscious awareness, indicative of superior attention, concentration, and mental control.  Her capacity for sequential processing, mental manipulation, and attention are also very strong. She appears to effectively utilize working memory in the service of learning, problem-solving, and higher-order reasoning.\"}, \"processingSpeed\": {\"score\": 140, \"description\": \"Kid demonstrates remarkable speed and accuracy in visual identification, decision-making, and decision implementation.  Her rapid processing of visual information, quick and accurate decisions, and swift implementation of those decisions are evident.  This suggests that processing speed is not a limiting factor in her performance on tasks involving reasoning.  Moreover, her rapid decision-making with information registered in short-term memory is notable.\"}, \"attentionSpan\": {\"visualAttention\": {\"score\": 145, \"description\": \"Kid's visual attention is exceptionally strong, as evidenced by her ability to quickly and accurately identify and implement decisions about visual stimuli.  She demonstrates superior visual scanning, discrimination, short-term visual memory, and concentration.\"}, \"auditoryAttention\": {\"score\": 142, \"description\": \"Kid's auditory attention is also very strong, showing an ability to readily register, maintain, and manipulate verbally presented information.  This suggests a well-developed capacity to utilize the phonological loop for temporary storage, rehearsal, and manipulation of auditory information.\"}}}, \"executiveFunction\": {\"planning\": 10, \"impulseControl\": 9, \"description\": \"Kid's executive functions, encompassing planning, problem-solving, and concept formation, are highly developed.  She demonstrates advanced abilities in abstracting conceptual information from visual details and effectively applying that knowledge.  While her impulse control is strong, occasional instances of set errors on tasks like Symbol Search suggest a need for ongoing development in this area.  Overall, her executive functions are a significant strength, enabling her to excel in complex tasks and problem-solving situations.\"}, \"learningPreferences\": {\"modalities\": [\"visual\", \"auditory\"], \"description\": \"While Kid demonstrates strength in both visual and auditory modalities, her performance suggests a possible preference for auditory learning.  She appears to process and retain information more readily when presented in an auditory format, particularly in working memory tasks.  However, her high scores in visual attention and processing speed indicate that she can effectively learn through visual modalities as well.  Encouraging her to utilize both modalities in a balanced approach may further enhance her learning and cognitive development.\"}, \"learningChallengesSummary\": {\"attentionAndFocus\": \"No significant challenges related to attention and focus were observed.  Kid's scores indicate superior sustained and selective attention abilities.\", \"memoryAndSpeed\": \"While Kid's working memory and processing speed are both strengths, she may experience some difficulty with visual-spatial working memory tasks, as indicated by her relatively lower score on Picture Span.  This suggests a potential area for development, focusing on strengthening her ability to visualize and manipulate spatial information in her mind.\", \"planningAndImpulsivity\": \"Kid's planning abilities are exceptional; however, occasional instances of impulsivity, as evidenced by set errors on Symbol Search, may warrant attention.  Encouraging strategies for self-monitoring and error correction may further enhance her executive functioning skills.\", \"strengths\": \"Kid's overall cognitive profile is marked by exceptional strengths in fluid reasoning, processing speed, and auditory attention.  Her advanced verbal reasoning, strong word knowledge acquisition, and effective communication skills are also notable.  These cognitive strengths provide a solid foundation for continued academic success and overall cognitive development.\"}}\n"
     ]
    }
   ],
   "source": [
    "response = model.generate_content(\n",
    "    pdf_files + [user_prompt.format(kid_profile=profile3)], \n",
    ")\n",
    "\n",
    "print(response.text)\n",
    "completed_profile3 = response.text"
   ]
  },
  {
   "cell_type": "code",
   "execution_count": 8,
   "id": "7f587751",
   "metadata": {},
   "outputs": [
    {
     "name": "stdout",
     "output_type": "stream",
     "text": [
      "{\"name\": \"College Student\", \"gender\": \"female\", \"age\": 21, \"diagnosis\": \"Identified as Gifted and Talented (IQ > 130)\", \"cognitiveDomainProfile\": {\"workingMemory\": {\"score\": 145, \"description\": \"Exhibits exceptional working memory, retaining and manipulating multiple complex ideas simultaneously—great for advanced coursework and research.\"}, \"processingSpeed\": {\"score\": 150, \"description\": \"Processes new information extremely quickly, routinely completing readings and problem sets faster than peers.\"}, \"attentionSpan\": {\"visualAttention\": {\"score\": 148, \"description\": \"Maintains deep focus on visual materials (diagrams, slides, code) for extended periods without fatigue.\"}, \"auditoryAttention\": {\"score\": 149, \"description\": \"Absorbs and integrates spoken lectures and discussions rapidly, rarely missing nuanced details even in fast‑paced seminars.\"}}}, \"executiveFunction\": {\"planning\": 10, \"impulseControl\": 10, \"description\": \"Demonstrates immaculate organizational skills and self‑regulation, balancing a full course load, research projects, and extracurriculars with ease.\"}, \"learningPreferences\": {\"modalities\": [\"Visual\", \"Auditory\", \"Kinesthetic\"], \"description\": \"Thrives on a mix of interactive lectures, hands‑on labs, and visual aids—often sketching mind‑maps or models to solidify understanding.\"}, \"learningChallengesSummary\": {\"attentionAndFocus\": \"Rarely distracted, though finds repetitive tasks unstimulating and may seek novelty.\", \"memoryAndSpeed\": \"Outstanding recall of concepts and facts; occasionally experiences overload when retrieving very granular details.\", \"planningAndImpulsivity\": \"Excels at long‑term planning; may procrastinate on assignments perceived as low‑challenge.\", \"strengths\": \"Creative problem‑solving, rapid insight generation, and advanced pattern recognition across disciplines.\"}}\n"
     ]
    }
   ],
   "source": [
    "response = model.generate_content(\n",
    "    pdf_files + [user_prompt.format(kid_profile=profile4)], \n",
    ")\n",
    "\n",
    "print(response.text)\n",
    "completed_profile4 = response.text"
   ]
  },
  {
   "cell_type": "code",
   "execution_count": 9,
   "id": "7a94c6dd",
   "metadata": {},
   "outputs": [
    {
     "data": {
      "text/plain": [
       "[genai.File({\n",
       "     'name': 'files/yhizpeksq7vn',\n",
       "     'display_name': 'Assessing executive functions in children.pdf',\n",
       "     'mime_type': 'application/pdf',\n",
       "     'sha256_hash': 'MGRhZGQ3NTUwNGNjODdkNWIwZWVjY2ZlODllZjdjOTI3NjE3ZjFkZTYyZjJhMmZjODlmMjdkYzg4NDdmNWJlZg==',\n",
       "     'size_bytes': '476328',\n",
       "     'state': 'ACTIVE',\n",
       "     'uri': 'https://generativelanguage.googleapis.com/v1beta/files/yhizpeksq7vn',\n",
       "     'create_time': '2025-04-23T23:43:49.615879Z',\n",
       "     'expiration_time': '2025-04-25T23:43:49.577465523Z',\n",
       "     'update_time': '2025-04-23T23:43:49.615879Z'}),\n",
       " genai.File({\n",
       "     'name': 'files/2ik3465njwo9',\n",
       "     'display_name': 'Assessments Related to the Physical, Affective and Cognitive '\n",
       "                     'Domains of Physical Literacy.pdf',\n",
       "     'mime_type': 'application/pdf',\n",
       "     'sha256_hash': 'ZDY3NzQyODdhMTZlMmY5MmMyZTljYTg0Njk2NzBjM2RmZDdkMjUwMWExNzI0MTQyODhmMTBmNDdjZWVhMmE3Zg==',\n",
       "     'size_bytes': '1884494',\n",
       "     'state': 'ACTIVE',\n",
       "     'uri': 'https://generativelanguage.googleapis.com/v1beta/files/2ik3465njwo9',\n",
       "     'create_time': '2025-04-23T23:43:51.056911Z',\n",
       "     'expiration_time': '2025-04-25T23:43:51.021001417Z',\n",
       "     'update_time': '2025-04-23T23:43:51.056911Z'}),\n",
       " genai.File({\n",
       "     'name': 'files/vi58461bq8q5',\n",
       "     'display_name': 'Auditory and Visual Attention in Normal and ADHD-Inattentive '\n",
       "                     'subtype Children.pdf',\n",
       "     'mime_type': 'application/pdf',\n",
       "     'sha256_hash': 'MjIzNzFlNjdmMTMzY2E1MDI3ZjY0YTIxZjYzNWRkNzNkYmNlNWM2NzQyZDlkZDc5YWQ4NTViNjM0M2M4MDdmYQ==',\n",
       "     'size_bytes': '1422428',\n",
       "     'state': 'ACTIVE',\n",
       "     'uri': 'https://generativelanguage.googleapis.com/v1beta/files/vi58461bq8q5',\n",
       "     'create_time': '2025-04-23T23:43:51.952476Z',\n",
       "     'expiration_time': '2025-04-25T23:43:51.918961991Z',\n",
       "     'update_time': '2025-04-23T23:43:51.952476Z'}),\n",
       " genai.File({\n",
       "     'name': 'files/opa83fmd0kd6',\n",
       "     'display_name': 'Domains of cognition and their assessment.pdf',\n",
       "     'mime_type': 'application/pdf',\n",
       "     'sha256_hash': 'MTczOGQ1Njk5ZGQyMzRlZDExODI5OWQ1MDE4YjdkMGQyYWZiOTdjMmE2NDdlMmYzM2RlNjMwMzc4OTZjNjk1MA==',\n",
       "     'size_bytes': '495208',\n",
       "     'state': 'ACTIVE',\n",
       "     'uri': 'https://generativelanguage.googleapis.com/v1beta/files/opa83fmd0kd6',\n",
       "     'create_time': '2025-04-23T23:43:52.972686Z',\n",
       "     'expiration_time': '2025-04-25T23:43:52.942230596Z',\n",
       "     'update_time': '2025-04-23T23:43:52.972686Z'}),\n",
       " genai.File({\n",
       "     'name': 'files/v4woca11e4l9',\n",
       "     'display_name': 'Evidence-based Assessment of Cognitive Functioning.pdf',\n",
       "     'mime_type': 'application/pdf',\n",
       "     'sha256_hash': 'YzEwMjExYjAyMDM3OGFmYTkzNWQ1NTA1ZjQzOGU1ODg3YzRkZTZkZTgxZmNkZDdkYmJlNGI2ZDYyMDRhZTg4OQ==',\n",
       "     'size_bytes': '145883',\n",
       "     'state': 'ACTIVE',\n",
       "     'uri': 'https://generativelanguage.googleapis.com/v1beta/files/v4woca11e4l9',\n",
       "     'create_time': '2025-04-23T23:43:54.029714Z',\n",
       "     'expiration_time': '2025-04-25T23:43:53.996171943Z',\n",
       "     'update_time': '2025-04-23T23:43:54.029714Z'}),\n",
       " genai.File({\n",
       "     'name': 'files/sw9lrpcplbns',\n",
       "     'display_name': 'Mapping Normative Trajectories of Cognitive.pdf',\n",
       "     'mime_type': 'application/pdf',\n",
       "     'sha256_hash': 'OGQ1ZDMwMTA0OGQyNTI0MjkyNDU4ZmQ0Yzg4MTVhN2VlYjFkNzA0MmRmOTMzMDkwN2NiMTcyNzViZWU1N2Y1NQ==',\n",
       "     'size_bytes': '1383992',\n",
       "     'state': 'ACTIVE',\n",
       "     'uri': 'https://generativelanguage.googleapis.com/v1beta/files/sw9lrpcplbns',\n",
       "     'create_time': '2025-04-23T23:43:54.952760Z',\n",
       "     'expiration_time': '2025-04-25T23:43:54.913330125Z',\n",
       "     'update_time': '2025-04-23T23:43:54.952760Z'}),\n",
       " genai.File({\n",
       "     'name': 'files/dtx1mzqz5itf',\n",
       "     'display_name': 'Measurement of Cognition for the.pdf',\n",
       "     'mime_type': 'application/pdf',\n",
       "     'sha256_hash': 'NmM2MGZiMWM1ODM0NjhmNGExYjc1NWM2Y2JhYWQxZDcwN2QyM2U5NGRlMWNlNDVmMTRjYmY0OTM1NTQzNWJlZQ==',\n",
       "     'size_bytes': '700980',\n",
       "     'state': 'ACTIVE',\n",
       "     'uri': 'https://generativelanguage.googleapis.com/v1beta/files/dtx1mzqz5itf',\n",
       "     'create_time': '2025-04-23T23:43:55.937917Z',\n",
       "     'expiration_time': '2025-04-25T23:43:55.902387269Z',\n",
       "     'update_time': '2025-04-23T23:43:55.937917Z'}),\n",
       " genai.File({\n",
       "     'name': 'files/wbkvfguxvmd5',\n",
       "     'display_name': 'wisc-v-interpretive-report.pdf',\n",
       "     'mime_type': 'application/pdf',\n",
       "     'sha256_hash': 'ZTUyOTBkMzg3YTJmZmRjMzc1YmQyYzA0YjkwOGVmZDI0OTcyMTM1NWJiMDc0Y2ZkYWMxOWNkYjkwYjExZTJiNA==',\n",
       "     'size_bytes': '137222',\n",
       "     'state': 'ACTIVE',\n",
       "     'uri': 'https://generativelanguage.googleapis.com/v1beta/files/wbkvfguxvmd5',\n",
       "     'create_time': '2025-04-23T23:43:56.802950Z',\n",
       "     'expiration_time': '2025-04-25T23:43:56.768035594Z',\n",
       "     'update_time': '2025-04-23T23:43:56.802950Z'}),\n",
       " genai.File({\n",
       "     'name': 'files/lc2hlwm2k8lp',\n",
       "     'display_name': 'wms-iv-interpretive-report-sample-female.pdf',\n",
       "     'mime_type': 'application/pdf',\n",
       "     'sha256_hash': 'YWY0Mjg3NDliOGViZmZlYTEzMWYxNzYxN2M0M2U4YzQ5NDg0M2ZmODYyNmNhNzhkYjUyNzYxMDQ3OTdmNWY1YQ==',\n",
       "     'size_bytes': '163619',\n",
       "     'state': 'ACTIVE',\n",
       "     'uri': 'https://generativelanguage.googleapis.com/v1beta/files/lc2hlwm2k8lp',\n",
       "     'create_time': '2025-04-23T23:43:57.682794Z',\n",
       "     'expiration_time': '2025-04-25T23:43:57.642480692Z',\n",
       "     'update_time': '2025-04-23T23:43:57.682794Z'})]"
      ]
     },
     "execution_count": 9,
     "metadata": {},
     "output_type": "execute_result"
    }
   ],
   "source": [
    "pdf_files"
   ]
  },
  {
   "cell_type": "markdown",
   "id": "ec0707b0",
   "metadata": {},
   "source": [
    "## Tailoring Information"
   ]
  },
  {
   "cell_type": "code",
   "execution_count": 10,
   "id": "a8dea5f0",
   "metadata": {},
   "outputs": [],
   "source": [
    "system_prompt_tailor_draft= \"\"\"Task: Tailor the provided reference material so it’s engaging, accurate, and optimally suited to the learner’s cognitive profile.\n",
    "\n",
    "Inputs:\n",
    "- Reference Material:\n",
    "  {{reference_materials}}\n",
    "\n",
    "Instructions:\n",
    "1. Profile Analysis\n",
    "   Examine the learner_profile to extract:\n",
    "   - Age and background (e.g. “college student,” “gifted child”)\n",
    "   - Diagnosis or special considerations\n",
    "   - Strengths & challenges in working memory, processing speed, attention (visual/auditory), executive function, etc.\n",
    "   - Preferred learning modalities and motivational triggers\n",
    "\n",
    "2. Format Selection\n",
    "   Based on that profile, choose the one format that will work best:\n",
    "   - Story or narrative\n",
    "   - Dialogue or Q&A\n",
    "   - Interactive activity or hands‑on exercise\n",
    "   - Bulleted summary or “cheat‑sheet”\n",
    "   - Real‑world analogy or case study\n",
    "   - Visual/diagram description\n",
    "\n",
    "   (Do not always default to a story—explain in one sentence why you picked your format.)\n",
    "\n",
    "3. Content Adaptation\n",
    "   - Break material into manageable “chunks” for limited working memory  \n",
    "   - Use analogies, examples, or metaphors tied to the learner’s interests  \n",
    "   - Insert prompts/questions or quick checks when helpful  \n",
    "   - Simplify vocabulary and sentence structure as needed  \n",
    "\n",
    "4. Tone & Engagement\n",
    "   - Keep it encouraging and respectful  \n",
    "   - Match the enthusiasm level of the learner (e.g. curious and playful for kids, concise and challenge‑driven for advanced students)  \n",
    "\n",
    "5. Output\n",
    "   - Provide only the tailored material in the chosen format  \n",
    "   - Do not include cognative profile or any other information about the learner\n",
    "   - Please do not include any additional commentary or instructions in the output. Just provide the tailored content.  \n",
    " \n",
    "\"\"\""
   ]
  },
  {
   "cell_type": "code",
   "execution_count": 22,
   "id": "8c8c1f1a",
   "metadata": {},
   "outputs": [],
   "source": [
    "system_prompt_tailor= \"\"\" Task: Tailor the provided reference material about photosynthesis to be easily understandable and engaging for a child with the following cognitive profile:\n",
    "\n",
    "Reference Material:\n",
    "{reference_materials}\n",
    "\n",
    "Instructions:\n",
    "1. Analyze the 'Child Cognitive Profile' to understand the child's age, diagnosis (if any), and specific strengths and weaknesses in working memory, processing speed, attention span (visual and auditory), executive functions (planning and impulse control), learning preferences (modalities), and the summary of learning challenges and strengths.\n",
    "2. Based on this analysis, adapt the 'Reference Material' to be age-appropriate, engaging, and tailored to the child's cognitive needs and learning preferences.\n",
    "3. Employ strategies to address any identified learning challenges, such as breaking down information into smaller chunks for limited working memory or incorporating visual aids for visual learners.\n",
    "4. Maintain accuracy in the scientific information while simplifying the language and using analogies or relatable examples that resonate with a child.\n",
    "5. Ensure the tone is encouraging, supportive, and avoids being condescending.\n",
    "6. The output should be a clear and concise explanation of study materials suitable for the specific child described in the 'Child Cognitive Profile'.\n",
    "7. Please do not include any additional commentary or instructions in the output. Just provide the tailored content.\n",
    "8. Please do not include the cognitive profile in the output. Just provide the tailored content.\"\"\"\n",
    "\n",
    "\n",
    "user_prompt_tailor = \"\"\"Here is the Kid Cognitive Profile:\n",
    "{child_cognitive_profile_json}\n",
    "Please tailor the provided reference material to be understandable and engaging for a child with the following cognitive profile.Good Luck!\"\"\"\n",
    "\n"
   ]
  },
  {
   "cell_type": "code",
   "execution_count": 12,
   "id": "997a6a02",
   "metadata": {},
   "outputs": [
    {
     "name": "stdout",
     "output_type": "stream",
     "text": [
      "Photosynthesis is the process in which green plants (https://kids.britannica.com/kids/article/plant/353639) use sunlight to make their own food. Photosynthesis is necessary for life on Earth. Without it there would be no green plants, and without green plants there would be no animals.\n",
      "Photosynthesis requires sunlight, chlorophyll, water, and carbon dioxide gas. Chlorophyll is a substance in all green plants, especially in the leaves. Plants take in water from the soil and carbon dioxide from the air.\n",
      "Photosynthesis starts when chlorophyll absorbs energy (https://kids.britannica.com/kids/article/energy/353100) from sunlight. Green plants use this light energy to change water and carbon dioxide into oxygen and nutrients called sugars. The plants use some of the sugars and store the rest. The oxygen is released into the air.\n",
      "Photosynthesis is very important because almost all living things depend on plants for food. Photosynthesis is also important because of the oxygen it produces. Humans and other animals need to breathe in oxygen to survive.\n",
      "Some living things other than plants also make their own food through photosynthesis. They include certain types of bacteria and algae.\n"
     ]
    }
   ],
   "source": [
    "with open(\"test_materials\\photosynthesis.txt\", \"r\", encoding=\"utf-8\") as f:\n",
    "    study_material = f.read()\n",
    "print(study_material)"
   ]
  },
  {
   "cell_type": "code",
   "execution_count": 23,
   "id": "1fae0834",
   "metadata": {},
   "outputs": [],
   "source": [
    "model = genai.GenerativeModel(\n",
    "    model_name='models/gemini-1.5-flash',           \n",
    "    system_instruction=system_prompt_tailor.format( reference_materials= study_material),\n",
    "       \n",
    ")"
   ]
  },
  {
   "cell_type": "code",
   "execution_count": 24,
   "id": "1d5da055",
   "metadata": {},
   "outputs": [
    {
     "data": {
      "text/markdown": [
       "Plants are like tiny food factories!  They use a super cool process called photosynthesis to make their own food.  It's like magic, but it's science!\n",
       "\n",
       "Imagine the sun is a giant lightbulb. Plants have a special green ingredient called chlorophyll – it's what makes leaves green – that acts like a solar panel, capturing the sun's energy.  Think of it like a plant's power source!\n",
       "\n",
       "To make food, plants also need water (like you drink!) from the ground and carbon dioxide (a gas we breathe out) from the air.  The plant mixes these things with the sun's energy.\n",
       "\n",
       "What do they make?  Sugar, which is the plant's food, and oxygen, which is the air we breathe!  It's like a recipe: sunlight + water + carbon dioxide = sugar + oxygen.\n",
       "\n",
       "Plants use some of the sugar for energy to grow and store the rest for later. The oxygen gets released into the air, so we can all breathe!  Pretty amazing, right?\n",
       "\n",
       "Lots of living things, not just plants, do photosynthesis. Some tiny water creatures and even some bacteria do it too! Photosynthesis is super important because without it, there wouldn't be enough oxygen for us or the animals!\n"
      ],
      "text/plain": [
       "<IPython.core.display.Markdown object>"
      ]
     },
     "metadata": {},
     "output_type": "display_data"
    }
   ],
   "source": [
    "\n",
    "response1 = model.generate_content(\n",
    "    user_prompt_tailor.format(child_cognitive_profile_json=completed_profile1),\n",
    ")\n",
    "\n",
    "display(Markdown(response1.text))"
   ]
  },
  {
   "cell_type": "code",
   "execution_count": 25,
   "id": "5f5e9ff1",
   "metadata": {},
   "outputs": [
    {
     "data": {
      "text/markdown": [
       "Plants are like tiny food factories!  They make their own food using a super cool process called photosynthesis.  It's how they get energy to grow big and strong.\n",
       "\n",
       "Imagine the sun as a giant lightbulb.  Plants have a special ingredient called chlorophyll, which is what makes leaves green. Chlorophyll acts like a solar panel, soaking up the sun's energy.\n",
       "\n",
       "Plants also need water (like you drink!) from the ground and carbon dioxide (a gas we breathe out!) from the air.\n",
       "\n",
       "The chlorophyll uses the sun's energy to mix the water and carbon dioxide together.  It's like a special recipe!  This makes sugary food for the plant and something super important for us – oxygen!  Plants let out the oxygen into the air, which we breathe in to stay alive.\n",
       "\n",
       "So, next time you see a leafy green plant, remember it's a tiny food factory powered by the sun, making food for itself and giving us the air we need to breathe!  Pretty amazing, right?\n"
      ],
      "text/plain": [
       "<IPython.core.display.Markdown object>"
      ]
     },
     "metadata": {},
     "output_type": "display_data"
    }
   ],
   "source": [
    "response2 = model.generate_content(\n",
    "    user_prompt_tailor.format(child_cognitive_profile_json=completed_profile2),\n",
    ")\n",
    "\n",
    "display(Markdown(response2.text))"
   ]
  },
  {
   "cell_type": "code",
   "execution_count": 30,
   "id": "d56e7a53",
   "metadata": {},
   "outputs": [
    {
     "data": {
      "text/markdown": [
       "Plants are like tiny food factories!  They use sunlight, water, and air to make their own food, a process called photosynthesis.  Think of it like this: sunlight is the energy, water is like the main ingredient, and air (specifically carbon dioxide) is a special ingredient.\n",
       "\n",
       "Inside the leaves, there's a green stuff called chlorophyll.  Chlorophyll acts like a solar panel, capturing the sun's energy. This energy is used to mix the water and carbon dioxide into sugar (the plant's food!) and oxygen (the air we breathe!).\n",
       "\n",
       "The plant uses some sugar for energy to grow big and strong, and it stores the rest for later.  The oxygen is released into the air – a super important byproduct, because we need oxygen to breathe!\n",
       "\n",
       "Without photosynthesis, there wouldn't be plants, and without plants, there wouldn't be much food for animals, including us!  It's a pretty amazing process that keeps the whole world going.  Even some bacteria and algae use photosynthesis too!\n"
      ],
      "text/plain": [
       "<IPython.core.display.Markdown object>"
      ]
     },
     "metadata": {},
     "output_type": "display_data"
    }
   ],
   "source": [
    "response3 = model.generate_content(\n",
    "    user_prompt_tailor.format(child_cognitive_profile_json=completed_profile3),\n",
    ")\n",
    "\n",
    "display(Markdown(response3.text))"
   ]
  },
  {
   "cell_type": "code",
   "execution_count": 28,
   "id": "ef540691",
   "metadata": {},
   "outputs": [
    {
     "data": {
      "text/markdown": [
       "Photosynthesis:  The Plant's Powerhouse\n",
       "\n",
       "Plants are amazing! They create their own food using a process called photosynthesis. Think of it as their built-in kitchen and power plant all in one.  It's how they survive and provides food and oxygen for almost everything on Earth.\n",
       "\n",
       "Here's how it works:  Plants need four key ingredients:\n",
       "\n",
       "1. **Sunlight:**  Like a chef needs heat, plants need sunlight's energy.  They absorb this energy using a special green pigment called chlorophyll.  Chlorophyll is what makes leaves green!\n",
       "\n",
       "2. **Water:**  Plants absorb water through their roots, like drinking a refreshing glass of water.\n",
       "\n",
       "3. **Carbon Dioxide:**  Plants suck this gas from the air, just like we breathe in oxygen.\n",
       "\n",
       "4. **Chlorophyll:** This is the amazing ingredient that traps the sunlight's energy. It's like a solar panel for the plant.\n",
       "\n",
       "\n",
       "Using sunlight's energy, the chlorophyll acts like a tiny factory. It combines water and carbon dioxide to produce two things:\n",
       "\n",
       "1. **Oxygen:** This is the air we breathe! Plants release oxygen into the atmosphere as a byproduct.\n",
       "\n",
       "2. **Sugars (Glucose):** This is the plant's food!  It's like their delicious meal, providing energy for growth and everything else they need to do. They use some of the sugar immediately and store the rest for later.\n",
       "\n",
       "\n",
       "Photosynthesis is crucial for life on Earth. Without it, there would be no plants, and without plants, there would be no animals (including us!). It's a vital process that keeps our planet alive and thriving.  Even some bacteria and algae use this same incredible process!\n"
      ],
      "text/plain": [
       "<IPython.core.display.Markdown object>"
      ]
     },
     "metadata": {},
     "output_type": "display_data"
    }
   ],
   "source": [
    "response4 = model.generate_content(\n",
    "    user_prompt_tailor.format(child_cognitive_profile_json=completed_profile4)\n",
    ")\n",
    "\n",
    "display(Markdown(response4.text))"
   ]
  }
 ],
 "metadata": {
  "kernelspec": {
   "display_name": "Python 3",
   "language": "python",
   "name": "python3"
  },
  "language_info": {
   "codemirror_mode": {
    "name": "ipython",
    "version": 3
   },
   "file_extension": ".py",
   "mimetype": "text/x-python",
   "name": "python",
   "nbconvert_exporter": "python",
   "pygments_lexer": "ipython3",
   "version": "3.10.11"
  }
 },
 "nbformat": 4,
 "nbformat_minor": 5
}
