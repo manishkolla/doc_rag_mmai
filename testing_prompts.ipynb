{
 "cells": [
  {
   "cell_type": "code",
   "execution_count": 5,
   "id": "16afe698",
   "metadata": {},
   "outputs": [],
   "source": [
    "import pandas as pd\n",
    "import numpy as np\n",
    "import ast\n",
    "import torch\n",
    "from transformers import AutoTokenizer, AutoModel\n",
    "from sklearn.metrics.pairwise import cosine_similarity\n",
    "from docx import Document\n",
    "\n",
    "# === Load the CSV with embeddings ===\n",
    "csv_path = 'papers_adhd_csvs/all_papers_chunked_embeddings.csv'  # Modify if needed\n",
    "df = pd.read_csv(csv_path)\n",
    "df['embedding'] = df['embedding'].apply(ast.literal_eval)\n",
    "\n",
    "# === Convert Embeddings to NumPy Matrix ===\n",
    "embedding_matrix = np.array(df['embedding'].tolist())\n",
    "\n",
    "# === Load ClinicalBERT Tokenizer & Model ===\n",
    "tokenizer = AutoTokenizer.from_pretrained(\"medicalai/ClinicalBERT\")\n",
    "model = AutoModel.from_pretrained(\"medicalai/ClinicalBERT\")\n",
    "model.eval()\n",
    "device = torch.device(\"cuda\" if torch.cuda.is_available() else \"cpu\")\n",
    "model.to(device)\n",
    "\n",
    "# === Function to Embed Prompt ===\n",
    "@torch.no_grad()\n",
    "def get_embedding(text):\n",
    "    tokens = tokenizer(text, return_tensors='pt', truncation=True, padding='max_length', max_length=512).to(device)\n",
    "    outputs = model(**tokens)\n",
    "    cls_embedding = outputs.last_hidden_state[:, 0, :]\n",
    "    return cls_embedding.squeeze().cpu().numpy()\n",
    "\n",
    "\n",
    "# === Load the .docx file ===\n",
    "# doc_path = 'adhd_sample_child_prompts\\profile1.docx'  # Update this path\n",
    "# doc = Document(doc_path)\n",
    "\n",
    "# # === Combine all paragraphs into a single string ===\n",
    "# prompt_text = \"\\n\".join([para.text for para in doc.paragraphs if para.text.strip() != \"\"])\n",
    "\n",
    "# prompt_embedding = get_embedding(prompt_text).reshape(1, -1)\n",
    "\n",
    "# # === Compute Cosine Similarity and Retrieve Top-k Chunks ===\n",
    "# similarities = cosine_similarity(prompt_embedding, embedding_matrix).flatten()\n",
    "# top_k = 5  # Change this to any number of top results\n",
    "# top_k_indices = similarities.argsort()[-top_k:][::-1]\n",
    "\n",
    "# # === Display Top-k Chunks ===\n",
    "# top_chunks = df.iloc[top_k_indices][['chunk', 'source_file', 'page_number']]\n",
    "# top_chunks['similarity'] = similarities[top_k_indices]\n",
    "\n",
    "# # === Print Results ===\n",
    "# print(\"\\nTop-K Most Similar Chunks:\\n\")\n",
    "# print(top_chunks.to_string(index=False))\n"
   ]
  },
  {
   "cell_type": "code",
   "execution_count": 6,
   "id": "710140fd",
   "metadata": {},
   "outputs": [
    {
     "name": "stdout",
     "output_type": "stream",
     "text": [
      "\n",
      "Top-K Most Similar Chunks:\n",
      "\n",
      "                                                                                                                                                                                                                                                                                                                                                                                                                                                                                                                                                                                                                                                                                                                                                                                                                                                                                                                                                                                                                                                                                                                                                                                                                                                                                                                                                                                                                                                                                                                                                                                                                                                                                                                                                                                                                                                                                                                                                                                                                                                                                                                                                                                                                                                                       chunk source_file  page_number  similarity\n",
      "                                                                                                                                                                                                                                                                                                                                                                                                                                                                                                                                                                                                                                                                                                                                                                                                                                                                                                                                                                                                                                                                                                                  only). Working memory is an umbrella term describing all memory tasks (simple span and complex span tasks), but can also be used\\nto describe only complex tasks (storage plus processing).\\nTo avoid confusion, clear operational definitions are essential. Here, the term executive-loaded working memory (ELWM) (Henry,\\n2012) is used to refer to tasks with an attentional or processing load (e.g. complex span tasks). Short-term memory (STM) describes\\nstorage only tasks (simple span tasks) and working memory (WM) is used as an umbrella term to refer to all memory tasks. Tasks are\\nalso defined by modality i.e., verbal or visuospatial. Thus four aspects of WM are delineated (verbal and visuospatial STM and ELWM)\\nto categorise trained tasks and outcome measures. Table 1 provides examples of tasks representing each aspect of WM.\\nAim\\nThe aim is to examine systematically the effectiveness of non-computerised interventions targeting WM in 4–11 year olds applied\\nwithin their everyday contexts.\\nResearch questions\\n1. What types of WM interventions are implemented and what is their theoretical underpinning? paper26.pdf            4    0.996039\n",
      "                                                                                                                                                                                                                                                                                                                                                                                                                                                                                                                                                                                                                                                                                                                                                                                                                                                                                                                                                                                                                                                                           ADHD. We provide an overview of the mechanisms underlying\\nthe therapeutic benefit of working memory training and identify\\nnovel directions for research to improve ADHD treatment\\nprotocols.\\nWORKING MEMORY\\nWorking memory refers to the active mental workspace that\\ncan briefly hold and manipulate information (Fang et al., 2016).\\nWorking memory capacity determines the rate and level of\\nlearning and predicts performance on mental tasks such as\\nreading comprehension, language acquisition, reasoning, and\\nproblem-solving (Fang et al., 2016; Emch et al., 2019).\\nWorking memory is a hierarchical process that connects\\ndetailed sensory representations to specific behavioural\\nresponses. These are linked viaintermediate task-relevant\\nrepresentations and action plans in a network of different brain\\nareas (Christophel et al., 2017).\\nWorking memory plays a fundamental role in cognition,\\nallowing one to hold information ‘‘in mind.’’ Working memory\\nis defined by its flexibility: people are capable of storing, at least\\ntemporarily, any information. According to Baddeley’s multi-\\nelement model of working memory, considered the predominant paper12.pdf            3    0.995795\n",
      "                                                                                                                                                                                                                                                                                                                                                                                                                                                                                                                                                                                                                                                                                                                                                                                                                                                                                                                                                                                                               o Choice as Reward: Choice in and of itself appears to be highly reinforcing.  Provide choice s of activities between assignments or embed choices within \\nassignments (e.g., choice of materials, readings, response modes, peer partners).  Choices also provide students practice in decision making.   \\n o Checking With Chimes:  In order to teach students to monitor their attention to \\ntask, set reminders at random intervals  on an electronic device, such as a \\nsmartphone  or kitchen timer .  Time  intervals should be set based on the student’s \\nattention span and the pace of the lesson (typically 3 to 5 minute s).  When the \\ntone sounds, the student charts or marks whether she is engaged in learning.  A simple yes or no checklis t works well.  Students can monitor their own behaviors \\nby giving themselves points or checkmarks for appropriate behavior.  Extra points may be awarded when student and teacher ratings match.  The student could then chart her score using a computer program, tablet, s martphone, graph paper, or \\nposter board.  \\n o Visual and Environmental Prompts : Use behavioral and environmental \\nprom pts to increase desired classroom behaviors. For example, p ictorial prompts   paper8.pdf            7    0.995595\n",
      " Learning with ADHD: A Review of Technologies and Strategies  257 \\nJournal on Technology and Persons with Disabilities  \\nSantiago, J. (Eds): CSUN Assistive Technology Conference  \\n© 2022 California State University, Northridge  In terms of content, both consistency and structure are important for students with ADHD \\n(Sorensen 50). Teachers must focus on maintaining consistency in their communication and \\nlearning material . An effective strateg y for this is to provide templates with appropriate structure \\nto the students for creating content, artifacts and submissions for assessment, note- taking for \\ncomprehension, or communicating (Cinquin 165).  \\nIt could get difficult for students with ADHD to simultaneously work on content and \\nstructure.  Templates serve to scaffold their learning process. Writing templates can offer the \\nstudent a frame for the task at hand. These could be created by teachers using popular software \\nsuch as MS PowerPoint or MS Word.  \\nFrom a pedagogy perspective, several  strategies are reported  to promote consumption and \\nproduction of information by the learner  as well as engagement with the learning process. To \\nmake consumption of learning material easier, teachers  are encouraged to use multi-modal \\nrepresentation and comm unication (Sorensen 53). This helps with providing choices to the \\nstudents to engage through the mode that best suits them. Providing students flexibility for task completion such as  allowing multiple modes for task completion ( oral as well as  written ) \\nfacilitate s submissions. C ommunication  can be facilitated  through building in means for \\ncollaboration and knowledge-building (Sorensen & Andersen 46). \\nEngagement with the learning material is enhanced through information chunking, which \\nrefers to dividing content or assignments into smaller parts or modif ying them to reduce the \\nlength of tasks  to enable students to complete each piece without losing their attention.  Research \\nindicates that f requent feedback , positive attention,  and rewards motivate students with ADHD to  \\nremain engaged and respond better (Rigoni et al., 2020, p. 882). Awards and game- based  paper30.pdf            9    0.995590\n",
      "                                                                                                                                                                                                                                                                                                                                                                                                                                                                                                                                                                                                                                                                                                                                                                                                                                                                                                                                                  memory training in the general population, which helps us\\nunderstand its potential role in ADHD management. Figure 1\\nprovides an overview of the potential mechanisms to improve\\nworking memory.\\nTwo general mechanisms explain the effects of working\\nmemory training (von Bastian and Oberauer, 2014). The first\\nis increased working memory capacity , which enables people to\\nhold more items in their working memory, and the second is\\nincreased efficiency in using available working memory capacity.\\nAt the behavioural level, an increase in working memory\\ncapacity results in performance improvements in tasks on which\\nthe person was not trained, but that share some variance with\\nthe training tasks (Klingberg, 2010). Given that working memory\\ncapacity significantly correlates with several cognitive abilities,\\nthese improvements should manifest in several measures which\\nare independent of the precise materials and structure of the tasks\\n(Schmiedek et al., 2010). In general, two terms are used to define\\nthe transfer of training: (1) near-transfer which refers to gains in\\nabilities directly related to the training task; and (2) far-transfer,\\nwhich are gains in different but related abilities.\\nMeiran, Dreisbach, and von Bastian noted in 2019 that while paper12.pdf            6    0.995399\n"
     ]
    }
   ],
   "source": [
    "# === Load the .docx file ===\n",
    "doc_path = 'adhd_sample_child_prompts\\profile1.docx'  # Update this path\n",
    "doc = Document(doc_path)\n",
    "\n",
    "# === Combine all paragraphs into a single string ===\n",
    "prompt_text = \"\\n\".join([para.text for para in doc.paragraphs if para.text.strip() != \"\"])\n",
    "\n",
    "prompt_embedding = get_embedding(prompt_text).reshape(1, -1)\n",
    "\n",
    "# === Compute Cosine Similarity and Retrieve Top-k Chunks ===\n",
    "similarities = cosine_similarity(prompt_embedding, embedding_matrix).flatten()\n",
    "top_k = 5  # Change this to any number of top results\n",
    "top_k_indices = similarities.argsort()[-top_k:][::-1]\n",
    "\n",
    "# === Display Top-k Chunks ===\n",
    "top_chunks = df.iloc[top_k_indices][['chunk', 'source_file', 'page_number']]\n",
    "top_chunks['similarity'] = similarities[top_k_indices]\n",
    "\n",
    "# === Print Results ===\n",
    "print(\"\\nTop-K Most Similar Chunks:\\n\")\n",
    "print(top_chunks.to_string(index=False))\n"
   ]
  },
  {
   "cell_type": "code",
   "execution_count": 7,
   "id": "33a4d89c",
   "metadata": {},
   "outputs": [
    {
     "name": "stdout",
     "output_type": "stream",
     "text": [
      "\n",
      "Top-K Most Similar Chunks:\n",
      "\n",
      "                                                                                                                                                                                                                                                                                                                                                                                                                                                                                                                                                                                                                                                                                                                                                                                                                                                                                                                                                                                                                                                                                                                                                                                                                                                                                                                                                                                                                                               chunk source_file  page_number  similarity\n",
      "                                                                                                                                                                                            10 \\nConsiderations: ADHD  \\nT/TAC W&M, 1 -800-323-4489 \\nUpdated July 2017 • E-mail: Provide par ents with an e-mail address to increase timely communication .  If \\nthey do not have easy access to e -mail, provide them with telephone numbers and optimal \\ntimes for calling.   \\n \\n• Websites: A homework website that provides assignments for the week is very helpf ul to \\nparents  and guardians  of students with ADHD.  Class news regarding projects and the \\nweek’s instructional topics can also be posted.  \\n \\n• Homework Hotline: A  homework hotline that gives the assignments for the night and  \\nalso provides helpful suggestions for completing them  can help families support their \\nchildren’s work completion.  \\n \\nWord of Caution  \\n \\nMedications are often part of the treatment plan for students with ADHD.  Only medical \\nprofessionals can diagnose ADHD and prescribe medications.  Educators should share the behaviors they are observing in the classroom with family but refrain from suggesting medical conditions such as ADHD or recommending medications to treat them. \\n \\nConclusion  \\n \\nAddressing the needs of students with A DHD is  complex and  requires teachers to assess not only   paper8.pdf           10    0.988723\n",
      "The first step in creating classroom supports for students with ADHD is understand ing the \\nstudents’ strengths and needs . This involves formal and informal assessment, as well as \\ncollaboration among  educational professionals and the  students’ families .  If a student is not \\nresponsive  to behavioral strategies and interventions , more intensive interventions , such as \\nfunctional behavior  assessment and behavior intervention plan s, should be considered (see \\nPractical FBA ).  No one intervention is universally effective for all students with ADHD.  A \\ncombination of research -based and promising practices is recommended.  Several of these \\npractices are described below.  \\n \\n• Giving D irections  \\nMany students with ADHD have trouble following directions.  The guidelines below help address this problem.  \\n \\no Number of Directions: Give a minimal number of directions or  steps at a time.  \\nIf necessary, have s tudents repeat the directions to the teacher or a peer partner.  \\n o Form of Directions:  Provide written  directions  or steps,  or a visua l model of a \\ncompleted project. Teach students how to refer to these items  as reminders of \\nprocess steps  to complete tasks . This strategy is particularly helpful for long -term \\nprojects.  \\n \\n• Written Assignments  \\nMany students with ADHD have particular challenges  with written  work due to fine -  paper8.pdf            3    0.988203\n",
      "                                                                                                                                                                                                                                                                                speci ﬁcity of the neurocognitive training target(s). Although\\ntraining a variety of neurocognitive functions is appealing at face\\nvalue, meta-analytic evidence indicates that such protocolsproduce smaller near-transfer effects than protocols that focuson a single neurocognitive training target [ 81]. It is presumed that\\nthe reason for this ﬁnding is that the more different cognitive\\n‘muscles ’that we are trying to train, the less time we can spend on\\nany one of those ‘muscles ’. Thus, it appears likely that maximizing\\nefﬁcacy will require separate protocols for each neurocognitive\\nfunction that is impaired in ADHD, combined with a ‘personalized\\nmedicine ’approach in which each child ’s neurocognitive pro ﬁle is\\nestimated at pre-treatment, and then a treatment plan is\\ndeveloped to target each of their identi ﬁed weaknesses. We must\\nleverage basic science to link training targets with behavioral/functional outcomes . Related to dosage and speci ﬁcity issues is the\\nidea of matching neurocognitive training targets with the speci ﬁc\\noutcome(s) of interest. Stated bluntly, neurocognitive training is paper29.pdf            5    0.987812\n",
      "                                                                                                                                                                                                                                                                                                     (Kasper et al., 2012 ). This impairment manifests in several\\nways: interruptions during multi-step tasks, forgetfulness of\\nimportant information, and challenges in emotional regulation\\nand impulse control ( Koﬂer et al., 2018 ;Ramos et al., 2020 ).\\nTwo primary theoretical models explain the relationship between\\nADHD and working memory. Barkley’s response inhibition\\nmodel suggests that deﬁcient response inhibition is the primary\\nimpairment, leading to executive function deﬁcits including\\nworking memory problems, which result in hyperactivity,\\nimpulsivity, and inattention symptoms ( Barkley, 1997 ). The\\nalternative working memory model, drawing from Baddeley and\\nHitch’s multi-component theory, positions working memory\\ndeﬁcits as a core feature of ADHD ( Rapport et al., 2001 ).\\nThis model, based on Baddeley and Hitch’s multi-component\\nworking memory theory, includes four elements: the central\\nexecutive system, phonological loop, visuospatial sketchpad,\\nand the episodic buﬀer, which work together to coordinate the\\nstorage and processing of information ( RepovŠ and Baddeley, paper14.pdf            2    0.987749\n",
      "                                                                                                                                                                                                                                                       “Practicing recall”, working memory is considered with repeti -\\ntion of information, mnemonic techniques are used and students \\nmust be able to recall and recognize information using auditory \\nand visual memory(8). \\nPrasannakummar and Saminathan(17) carried out an inter -\\nvention study for science teaching, with an experimental group \\n(using MIAM) and a control group (traditional teaching \\nmethod), and concluded that MIAM improved student per -\\nformance and contributed to a “meaningful and joyful learning”, \\nsuggesting that multisensory integration be used at all educa -\\ntional levels, in order to optimize learning.\\nMIAM has the potential to favor/optimize students’ lear -\\nning. When inserted in lesson planning, in line with instructio -\\nnal objectives and the desired assessment format, it is possible \\nto create an external environment in the classroom that arouse \\ndifferent sensory perceptions, with the potential to help in the \\nexisting relationship between working memory and long-term \\nmemory (new subjects and previous knowledge). Indeed, activi -\\nties that require movement and the sense of touch make students  paper20.pdf            2    0.987725\n"
     ]
    }
   ],
   "source": [
    "# === Load the .docx file ===\n",
    "doc_path = 'adhd_sample_child_prompts\\profile2.docx'  # Update this path\n",
    "doc = Document(doc_path)\n",
    "\n",
    "# === Combine all paragraphs into a single string ===\n",
    "prompt_text = \"\\n\".join([para.text for para in doc.paragraphs if para.text.strip() != \"\"])\n",
    "\n",
    "prompt_embedding = get_embedding(prompt_text).reshape(1, -1)\n",
    "\n",
    "# === Compute Cosine Similarity and Retrieve Top-k Chunks ===\n",
    "similarities = cosine_similarity(prompt_embedding, embedding_matrix).flatten()\n",
    "top_k = 5  # Change this to any number of top results\n",
    "top_k_indices = similarities.argsort()[-top_k:][::-1]\n",
    "\n",
    "# === Display Top-k Chunks ===\n",
    "top_chunks = df.iloc[top_k_indices][['chunk', 'source_file', 'page_number']]\n",
    "top_chunks['similarity'] = similarities[top_k_indices]\n",
    "\n",
    "# === Print Results ===\n",
    "print(\"\\nTop-K Most Similar Chunks:\\n\")\n",
    "print(top_chunks.to_string(index=False))\n"
   ]
  },
  {
   "cell_type": "code",
   "execution_count": 8,
   "id": "1e784db4",
   "metadata": {},
   "outputs": [
    {
     "name": "stdout",
     "output_type": "stream",
     "text": [
      "\n",
      "Top-K Most Similar Chunks:\n",
      "\n",
      "                                                                                                                                                                                                                                                                                                                                                                                                                                                                                                                                                                                                                                                                                                                                                                                                                                                                                                                                                                                                                                                                                                                                                                                                                                                                                                                                                                                                                                                       chunk source_file  page_number  similarity\n",
      "                                                                                                                                                                                                    10 \\nConsiderations: ADHD  \\nT/TAC W&M, 1 -800-323-4489 \\nUpdated July 2017 • E-mail: Provide par ents with an e-mail address to increase timely communication .  If \\nthey do not have easy access to e -mail, provide them with telephone numbers and optimal \\ntimes for calling.   \\n \\n• Websites: A homework website that provides assignments for the week is very helpf ul to \\nparents  and guardians  of students with ADHD.  Class news regarding projects and the \\nweek’s instructional topics can also be posted.  \\n \\n• Homework Hotline: A  homework hotline that gives the assignments for the night and  \\nalso provides helpful suggestions for completing them  can help families support their \\nchildren’s work completion.  \\n \\nWord of Caution  \\n \\nMedications are often part of the treatment plan for students with ADHD.  Only medical \\nprofessionals can diagnose ADHD and prescribe medications.  Educators should share the behaviors they are observing in the classroom with family but refrain from suggesting medical conditions such as ADHD or recommending medications to treat them. \\n \\nConclusion  \\n \\nAddressing the needs of students with A DHD is  complex and  requires teachers to assess not only   paper8.pdf           10    0.990560\n",
      "        The first step in creating classroom supports for students with ADHD is understand ing the \\nstudents’ strengths and needs . This involves formal and informal assessment, as well as \\ncollaboration among  educational professionals and the  students’ families .  If a student is not \\nresponsive  to behavioral strategies and interventions , more intensive interventions , such as \\nfunctional behavior  assessment and behavior intervention plan s, should be considered (see \\nPractical FBA ).  No one intervention is universally effective for all students with ADHD.  A \\ncombination of research -based and promising practices is recommended.  Several of these \\npractices are described below.  \\n \\n• Giving D irections  \\nMany students with ADHD have trouble following directions.  The guidelines below help address this problem.  \\n \\no Number of Directions: Give a minimal number of directions or  steps at a time.  \\nIf necessary, have s tudents repeat the directions to the teacher or a peer partner.  \\n o Form of Directions:  Provide written  directions  or steps,  or a visua l model of a \\ncompleted project. Teach students how to refer to these items  as reminders of \\nprocess steps  to complete tasks . This strategy is particularly helpful for long -term \\nprojects.  \\n \\n• Written Assignments  \\nMany students with ADHD have particular challenges  with written  work due to fine -  paper8.pdf            3    0.990559\n",
      "                                                                                                                                                                                                                                                           ADHD. We provide an overview of the mechanisms underlying\\nthe therapeutic benefit of working memory training and identify\\nnovel directions for research to improve ADHD treatment\\nprotocols.\\nWORKING MEMORY\\nWorking memory refers to the active mental workspace that\\ncan briefly hold and manipulate information (Fang et al., 2016).\\nWorking memory capacity determines the rate and level of\\nlearning and predicts performance on mental tasks such as\\nreading comprehension, language acquisition, reasoning, and\\nproblem-solving (Fang et al., 2016; Emch et al., 2019).\\nWorking memory is a hierarchical process that connects\\ndetailed sensory representations to specific behavioural\\nresponses. These are linked viaintermediate task-relevant\\nrepresentations and action plans in a network of different brain\\nareas (Christophel et al., 2017).\\nWorking memory plays a fundamental role in cognition,\\nallowing one to hold information ‘‘in mind.’’ Working memory\\nis defined by its flexibility: people are capable of storing, at least\\ntemporarily, any information. According to Baddeley’s multi-\\nelement model of working memory, considered the predominant paper12.pdf            3    0.990369\n",
      "                                                                                                                                                                                                   memory,theymaylackthehighcognitiveloadstimulationrequired\\nfor direct improvements. Virtual sports-based interactive games\\nprimarily focus on enhancing children’s social interaction and\\ncooperation experiences, such as motivating participants through\\ncollaborative tasks or fun competitions in virtual environments.\\nAlthoughthesegameshaveapositiveimpactonthesocialbehavior\\nand emotional regulation of children with ADHD ( Ochi et al.,\\n2024;Zhao et al., 2022 ), their lower task complexity and memory\\nload requirements mean they are less eﬀective than cognitive-\\naerobic exercise and ball sports in directly improving working\\nmemory. The cognitive challenges in these games are limited and\\ngenerally do not involve high-intensity memory tasks or complex\\ndecision-making, making their direct impact on working memory\\nrelativelymodest.\\nOn the other hand, the eﬀect of regular aerobic exercise\\nis the weakest (SMD =0.40), which may be attributed to its\\nsimpler exercise format and lower cognitive load. Activities like\\nrunningandskipping,whileimprovingoverallphysicalﬁtnessand\\nstimulating dopamine secretion, can help children with ADHDmaintain attention in the short term ( Kuo et al., 2024 ;Ren paper14.pdf           10    0.990129\n",
      "interventions, assess the long-term sustainability of intervention\\neﬀects, and test their feasibility in real classroom settings.\\nAdditionally, optimizing the frequency, intensity, and duration\\nof interventions through interdisciplinary collaboration would\\nhelp maximize improvements in working memory. These eﬀorts\\nwould collectively advance both the theoretical understanding\\nand practical application of exercise interventions for children\\nwithADHD.\\n/five.tnum Conclusion\\nConcluding, this study used network meta-analysis to\\ninvestigate the eﬀects of diﬀerent types of exercise interventions\\non working memory in children with ADHD. The results indicate\\nthat cognitive-aerobic exercise and ball sports are signiﬁcantly\\nmore eﬀective than other types of exercise interventions in\\nimproving working memory. This diﬀerence may be attributed\\nto the varying cognitive load, task complexity, and the degree of\\nactivation of executive functions across diﬀerent exercise types.The ﬁndings suggest that when designing exercise interventions\\nforchildrenwithADHD,priorityshouldbegiventoexercisetypes\\nwith higher cognitive load in order to more eﬀectively enhance\\nworkingmemory.\\nData availability statement\\nThe original contributions presented in the study are included\\nin the article/ Supplementarymaterial , further inquiries can be\\ndirectedtothecorrespondingauthor.\\nAuthor contributions paper14.pdf           11    0.990027\n"
     ]
    }
   ],
   "source": [
    "# === Load the .docx file ===\n",
    "doc_path = 'adhd_sample_child_prompts\\profile3.docx'  # Update this path\n",
    "doc = Document(doc_path)\n",
    "\n",
    "# === Combine all paragraphs into a single string ===\n",
    "prompt_text = \"\\n\".join([para.text for para in doc.paragraphs if para.text.strip() != \"\"])\n",
    "\n",
    "prompt_embedding = get_embedding(prompt_text).reshape(1, -1)\n",
    "\n",
    "# === Compute Cosine Similarity and Retrieve Top-k Chunks ===\n",
    "similarities = cosine_similarity(prompt_embedding, embedding_matrix).flatten()\n",
    "top_k = 5  # Change this to any number of top results\n",
    "top_k_indices = similarities.argsort()[-top_k:][::-1]\n",
    "\n",
    "# === Display Top-k Chunks ===\n",
    "top_chunks = df.iloc[top_k_indices][['chunk', 'source_file', 'page_number']]\n",
    "top_chunks['similarity'] = similarities[top_k_indices]\n",
    "\n",
    "# === Print Results ===\n",
    "print(\"\\nTop-K Most Similar Chunks:\\n\")\n",
    "print(top_chunks.to_string(index=False))\n"
   ]
  }
 ],
 "metadata": {
  "kernelspec": {
   "display_name": "Python 3",
   "language": "python",
   "name": "python3"
  },
  "language_info": {
   "codemirror_mode": {
    "name": "ipython",
    "version": 3
   },
   "file_extension": ".py",
   "mimetype": "text/x-python",
   "name": "python",
   "nbconvert_exporter": "python",
   "pygments_lexer": "ipython3",
   "version": "3.10.11"
  }
 },
 "nbformat": 4,
 "nbformat_minor": 5
}
