{
 "cells": [
  {
   "cell_type": "code",
   "execution_count": null,
   "id": "16afe698",
   "metadata": {},
   "outputs": [
    {
     "data": {
      "application/vnd.jupyter.widget-view+json": {
       "model_id": "4746b6215c744057877e8d7cf69770a6",
       "version_major": 2,
       "version_minor": 0
      },
      "text/plain": [
       "pytorch_model.bin:  35%|###4      | 189M/542M [00:00<?, ?B/s]"
      ]
     },
     "metadata": {},
     "output_type": "display_data"
    },
    {
     "name": "stderr",
     "output_type": "stream",
     "text": [
      "C:\\Users\\mkolla1\\AppData\\Local\\Packages\\PythonSoftwareFoundation.Python.3.10_qbz5n2kfra8p0\\LocalCache\\local-packages\\Python310\\site-packages\\huggingface_hub\\file_download.py:139: UserWarning: `huggingface_hub` cache-system uses symlinks by default to efficiently store duplicated files but your machine does not support them in C:\\Users\\mkolla1\\.cache\\huggingface\\hub\\models--medicalai--ClinicalBERT. Caching files will still work but in a degraded version that might require more space on your disk. This warning can be disabled by setting the `HF_HUB_DISABLE_SYMLINKS_WARNING` environment variable. For more details, see https://huggingface.co/docs/huggingface_hub/how-to-cache#limitations.\n",
      "To support symlinks on Windows, you either need to activate Developer Mode or to run Python as an administrator. In order to activate developer mode, see this article: https://docs.microsoft.com/en-us/windows/apps/get-started/enable-your-device-for-development\n",
      "  warnings.warn(message)\n",
      "C:\\Users\\mkolla1\\AppData\\Local\\Packages\\PythonSoftwareFoundation.Python.3.10_qbz5n2kfra8p0\\LocalCache\\local-packages\\Python310\\site-packages\\torch\\_utils.py:831: UserWarning: TypedStorage is deprecated. It will be removed in the future and UntypedStorage will be the only storage class. This should only matter to you if you are using storages directly.  To access UntypedStorage directly, use tensor.untyped_storage() instead of tensor.storage()\n",
      "  return self.fget.__get__(instance, owner)()\n"
     ]
    },
    {
     "name": "stdout",
     "output_type": "stream",
     "text": [
      "\n",
      "Top-K Most Similar Chunks:\n",
      "\n",
      "                                                                                                                                                                                                                                                                                                                                                                                                                                                                                                                                                                                                                                                                                                                                                                                                                                                                                                                                                                                                                                                                                                                                                                                                                                                                                                                                                             chunk source_file  page_number  similarity\n",
      "                                                                                                                         ADHD. We provide an overview of the mechanisms underlying\\r\\nthe therapeutic benefit of working memory training and identify\\r\\nnovel directions for research to improve ADHD treatment\\r\\nprotocols.\\r\\nWORKING MEMORY\\r\\nWorking memory refers to the active mental workspace that\\r\\ncan briefly hold and manipulate information (Fang et al., 2016).\\r\\nWorking memory capacity determines the rate and level of\\r\\nlearning and predicts performance on mental tasks such as\\r\\nreading comprehension, language acquisition, reasoning, and\\r\\nproblem-solving (Fang et al., 2016; Emch et al., 2019).\\r\\nWorking memory is a hierarchical process that connects\\r\\ndetailed sensory representations to specific behavioural\\r\\nresponses. These are linked viaintermediate task-relevant\\r\\nrepresentations and action plans in a network of different brain\\r\\nareas (Christophel et al., 2017).\\r\\nWorking memory plays a fundamental role in cognition,\\r\\nallowing one to hold information ‘‘in mind.’’ Working memory\\r\\nis defined by its flexibility: people are capable of storing, at least\\r\\ntemporarily, any information. According to Baddeley’s multi-\\r\\nelement model of working memory, considered the predominant paper12.pdf            3    0.995795\n",
      "                                                                                 o Choice as Reward: Choice in and of itself appears to be highly reinforcing.  Provide choice s of activities between assignments or embed choices within \\r\\nassignments (e.g., choice of materials, readings, response modes, peer partners).  Choices also provide students practice in decision making.   \\r\\n o Checking With Chimes:  In order to teach students to monitor their attention to \\r\\ntask, set reminders at random intervals  on an electronic device, such as a \\r\\nsmartphone  or kitchen timer .  Time  intervals should be set based on the student’s \\r\\nattention span and the pace of the lesson (typically 3 to 5 minute s).  When the \\r\\ntone sounds, the student charts or marks whether she is engaged in learning.  A simple yes or no checklis t works well.  Students can monitor their own behaviors \\r\\nby giving themselves points or checkmarks for appropriate behavior.  Extra points may be awarded when student and teacher ratings match.  The student could then chart her score using a computer program, tablet, s martphone, graph paper, or \\r\\nposter board.  \\r\\n o Visual and Environmental Prompts : Use behavioral and environmental \\r\\nprom pts to increase desired classroom behaviors. For example, p ictorial prompts   paper8.pdf            7    0.995595\n",
      "memory training in the general population, which helps us\\r\\nunderstand its potential role in ADHD management. Figure 1\\r\\nprovides an overview of the potential mechanisms to improve\\r\\nworking memory.\\r\\nTwo general mechanisms explain the effects of working\\r\\nmemory training (von Bastian and Oberauer, 2014). The first\\r\\nis increased working memory capacity , which enables people to\\r\\nhold more items in their working memory, and the second is\\r\\nincreased efficiency in using available working memory capacity.\\r\\nAt the behavioural level, an increase in working memory\\r\\ncapacity results in performance improvements in tasks on which\\r\\nthe person was not trained, but that share some variance with\\r\\nthe training tasks (Klingberg, 2010). Given that working memory\\r\\ncapacity significantly correlates with several cognitive abilities,\\r\\nthese improvements should manifest in several measures which\\r\\nare independent of the precise materials and structure of the tasks\\r\\n(Schmiedek et al., 2010). In general, two terms are used to define\\r\\nthe transfer of training: (1) near-transfer which refers to gains in\\r\\nabilities directly related to the training task; and (2) far-transfer,\\r\\nwhich are gains in different but related abilities.\\r\\nMeiran, Dreisbach, and von Bastian noted in 2019 that while paper12.pdf            6    0.995399\n",
      "                                                                                                                                                                           study investigated more than 100 children and adults with\\r\\nADHD using a visual-spatial working memory task. It showed\\r\\ntwo separate effects according to working memory demand:\\r\\nenhancement of neural activity in the inferior prefrontal\\r\\ncortex (IFC) under high working memory demand and a\\r\\nreduction in neural activity in IFC under low working memory\\r\\ndemand (Rubia, 2018).\\r\\nWORKING MEMORY TRAINING\\r\\nWorking memory training aims to improve working memory\\r\\nthrough a series of tasks that help the trainee engage and\\r\\npractice this cognitive function. Prevalent are computerised\\r\\ncognitive training (CCT) interventions, which can provide\\r\\ntraining in a wide range of cognitive tasks (e.g., working\\r\\nmemory, attention, inhibitory control) in multiple training\\r\\nsessions over several weeks, often in a game format design\\r\\n(Table 3 ). The duration and number of sessions differ according\\r\\nto each specific implemented program (Veloso et al., 2019).\\r\\nCCT is described as adaptive when the level of task difficulty\\r\\nFrontiers in Behavioral Neuroscience | www.frontiersin.org 5 July 2021 | Volume 15 | Article 686873 paper12.pdf            5    0.995386\n",
      "                                                          9 \\r\\nConsiderations: ADHD  \\r\\nT/TAC W&M, 1 -800-323-4489 \\r\\nUpdated July 2017 increase or decrease in appropriate behavior to help parents coordinate their \\r\\nreinforcement s ystem with the school’s system.  A simple checklist consisting of \\r\\na list of  the desired behaviors and a place for assignments  that can be checked off, \\r\\nalong with space  for special notes , works best.  \\r\\n \\r\\n• Verbal Feedback  \\r\\n \\r\\nVerbal feedback is comprised of both praise and corrective stat ements .  Consider the \\r\\nfollowing when designing a behavioral plan.  \\r\\n \\r\\no Verbal Praise:  Use simple , but specific , praise phrases that clearly identify the \\r\\ndesired behaviors. For example, “ Larry, t hank you for raising your hand before \\r\\nanswering the question” lets the student know the specific behavior and condition for which he was praised . General praise (e.g., “good job”) is less meaningful for \\r\\nstudents .   \\r\\n o Verbal Redirection: Many students with ADHD  require frequent redirect ion.  \\r\\nRedirect students using clear, concise, and inconspicuously delivered verbal cues  \\r\\nto remind students of desired behaviors, rather than long explanations.  \\r\\n o Corrective Feedback:  Some student s with ADHD require brief, simple   paper8.pdf            9    0.995308\n"
     ]
    },
    {
     "data": {
      "application/vnd.jupyter.widget-view+json": {
       "model_id": "2025c32789bc4496988d0aa4ab18be8d",
       "version_major": 2,
       "version_minor": 0
      },
      "text/plain": [
       "model.safetensors:   0%|          | 0.00/542M [00:00<?, ?B/s]"
      ]
     },
     "metadata": {},
     "output_type": "display_data"
    }
   ],
   "source": [
    "import pandas as pd\n",
    "import numpy as np\n",
    "import ast\n",
    "import torch\n",
    "from transformers import AutoTokenizer, AutoModel\n",
    "from sklearn.metrics.pairwise import cosine_similarity\n",
    "from docx import Document\n",
    "\n",
    "# === Load the CSV with embeddings ===\n",
    "csv_path = 'papers_adhd_csvs/all_papers_chunked_embeddings.csv'  # Modify if needed\n",
    "df = pd.read_csv(csv_path)\n",
    "df['embedding'] = df['embedding'].apply(ast.literal_eval)\n",
    "\n",
    "# === Convert Embeddings to NumPy Matrix ===\n",
    "embedding_matrix = np.array(df['embedding'].tolist())\n",
    "\n",
    "# === Load ClinicalBERT Tokenizer & Model ===\n",
    "tokenizer = AutoTokenizer.from_pretrained(\"medicalai/ClinicalBERT\")\n",
    "model = AutoModel.from_pretrained(\"medicalai/ClinicalBERT\")\n",
    "model.eval()\n",
    "device = torch.device(\"cuda\" if torch.cuda.is_available() else \"cpu\")\n",
    "model.to(device)\n",
    "\n",
    "# === Function to Embed Prompt ===\n",
    "@torch.no_grad()\n",
    "def get_embedding(text):\n",
    "    tokens = tokenizer(text, return_tensors='pt', truncation=True, padding='max_length', max_length=512).to(device)\n",
    "    outputs = model(**tokens)\n",
    "    cls_embedding = outputs.last_hidden_state[:, 0, :]\n",
    "    return cls_embedding.squeeze().cpu().numpy()\n",
    "\n",
    "\n",
    "# === Load the .docx file ===\n",
    "# doc_path = 'adhd_sample_child_prompts\\profile1.docx'  # Update this path\n",
    "# doc = Document(doc_path)\n",
    "\n",
    "# # === Combine all paragraphs into a single string ===\n",
    "# prompt_text = \"\\n\".join([para.text for para in doc.paragraphs if para.text.strip() != \"\"])\n",
    "\n",
    "# prompt_embedding = get_embedding(prompt_text).reshape(1, -1)\n",
    "\n",
    "# # === Compute Cosine Similarity and Retrieve Top-k Chunks ===\n",
    "# similarities = cosine_similarity(prompt_embedding, embedding_matrix).flatten()\n",
    "# top_k = 5  # Change this to any number of top results\n",
    "# top_k_indices = similarities.argsort()[-top_k:][::-1]\n",
    "\n",
    "# # === Display Top-k Chunks ===\n",
    "# top_chunks = df.iloc[top_k_indices][['chunk', 'source_file', 'page_number']]\n",
    "# top_chunks['similarity'] = similarities[top_k_indices]\n",
    "\n",
    "# # === Print Results ===\n",
    "# print(\"\\nTop-K Most Similar Chunks:\\n\")\n",
    "# print(top_chunks.to_string(index=False))\n"
   ]
  },
  {
   "cell_type": "code",
   "execution_count": null,
   "id": "710140fd",
   "metadata": {},
   "outputs": [
    {
     "name": "stdout",
     "output_type": "stream",
     "text": [
      "\n",
      "Top-K Most Similar Chunks:\n",
      "\n",
      "                                                                                                                                                                                                                                                                                                                                                                                                                                                                                                                                                                                                                                                                                                                                                                                                                                                                                                                                                                                                                                                                                                                                                                                                                                                                                                                                                             chunk source_file  page_number  similarity\n",
      "                                                                                                                         ADHD. We provide an overview of the mechanisms underlying\\r\\nthe therapeutic benefit of working memory training and identify\\r\\nnovel directions for research to improve ADHD treatment\\r\\nprotocols.\\r\\nWORKING MEMORY\\r\\nWorking memory refers to the active mental workspace that\\r\\ncan briefly hold and manipulate information (Fang et al., 2016).\\r\\nWorking memory capacity determines the rate and level of\\r\\nlearning and predicts performance on mental tasks such as\\r\\nreading comprehension, language acquisition, reasoning, and\\r\\nproblem-solving (Fang et al., 2016; Emch et al., 2019).\\r\\nWorking memory is a hierarchical process that connects\\r\\ndetailed sensory representations to specific behavioural\\r\\nresponses. These are linked viaintermediate task-relevant\\r\\nrepresentations and action plans in a network of different brain\\r\\nareas (Christophel et al., 2017).\\r\\nWorking memory plays a fundamental role in cognition,\\r\\nallowing one to hold information ‘‘in mind.’’ Working memory\\r\\nis defined by its flexibility: people are capable of storing, at least\\r\\ntemporarily, any information. According to Baddeley’s multi-\\r\\nelement model of working memory, considered the predominant paper12.pdf            3    0.995795\n",
      "                                                                                 o Choice as Reward: Choice in and of itself appears to be highly reinforcing.  Provide choice s of activities between assignments or embed choices within \\r\\nassignments (e.g., choice of materials, readings, response modes, peer partners).  Choices also provide students practice in decision making.   \\r\\n o Checking With Chimes:  In order to teach students to monitor their attention to \\r\\ntask, set reminders at random intervals  on an electronic device, such as a \\r\\nsmartphone  or kitchen timer .  Time  intervals should be set based on the student’s \\r\\nattention span and the pace of the lesson (typically 3 to 5 minute s).  When the \\r\\ntone sounds, the student charts or marks whether she is engaged in learning.  A simple yes or no checklis t works well.  Students can monitor their own behaviors \\r\\nby giving themselves points or checkmarks for appropriate behavior.  Extra points may be awarded when student and teacher ratings match.  The student could then chart her score using a computer program, tablet, s martphone, graph paper, or \\r\\nposter board.  \\r\\n o Visual and Environmental Prompts : Use behavioral and environmental \\r\\nprom pts to increase desired classroom behaviors. For example, p ictorial prompts   paper8.pdf            7    0.995595\n",
      "memory training in the general population, which helps us\\r\\nunderstand its potential role in ADHD management. Figure 1\\r\\nprovides an overview of the potential mechanisms to improve\\r\\nworking memory.\\r\\nTwo general mechanisms explain the effects of working\\r\\nmemory training (von Bastian and Oberauer, 2014). The first\\r\\nis increased working memory capacity , which enables people to\\r\\nhold more items in their working memory, and the second is\\r\\nincreased efficiency in using available working memory capacity.\\r\\nAt the behavioural level, an increase in working memory\\r\\ncapacity results in performance improvements in tasks on which\\r\\nthe person was not trained, but that share some variance with\\r\\nthe training tasks (Klingberg, 2010). Given that working memory\\r\\ncapacity significantly correlates with several cognitive abilities,\\r\\nthese improvements should manifest in several measures which\\r\\nare independent of the precise materials and structure of the tasks\\r\\n(Schmiedek et al., 2010). In general, two terms are used to define\\r\\nthe transfer of training: (1) near-transfer which refers to gains in\\r\\nabilities directly related to the training task; and (2) far-transfer,\\r\\nwhich are gains in different but related abilities.\\r\\nMeiran, Dreisbach, and von Bastian noted in 2019 that while paper12.pdf            6    0.995399\n",
      "                                                                                                                                                                           study investigated more than 100 children and adults with\\r\\nADHD using a visual-spatial working memory task. It showed\\r\\ntwo separate effects according to working memory demand:\\r\\nenhancement of neural activity in the inferior prefrontal\\r\\ncortex (IFC) under high working memory demand and a\\r\\nreduction in neural activity in IFC under low working memory\\r\\ndemand (Rubia, 2018).\\r\\nWORKING MEMORY TRAINING\\r\\nWorking memory training aims to improve working memory\\r\\nthrough a series of tasks that help the trainee engage and\\r\\npractice this cognitive function. Prevalent are computerised\\r\\ncognitive training (CCT) interventions, which can provide\\r\\ntraining in a wide range of cognitive tasks (e.g., working\\r\\nmemory, attention, inhibitory control) in multiple training\\r\\nsessions over several weeks, often in a game format design\\r\\n(Table 3 ). The duration and number of sessions differ according\\r\\nto each specific implemented program (Veloso et al., 2019).\\r\\nCCT is described as adaptive when the level of task difficulty\\r\\nFrontiers in Behavioral Neuroscience | www.frontiersin.org 5 July 2021 | Volume 15 | Article 686873 paper12.pdf            5    0.995386\n",
      "                                                          9 \\r\\nConsiderations: ADHD  \\r\\nT/TAC W&M, 1 -800-323-4489 \\r\\nUpdated July 2017 increase or decrease in appropriate behavior to help parents coordinate their \\r\\nreinforcement s ystem with the school’s system.  A simple checklist consisting of \\r\\na list of  the desired behaviors and a place for assignments  that can be checked off, \\r\\nalong with space  for special notes , works best.  \\r\\n \\r\\n• Verbal Feedback  \\r\\n \\r\\nVerbal feedback is comprised of both praise and corrective stat ements .  Consider the \\r\\nfollowing when designing a behavioral plan.  \\r\\n \\r\\no Verbal Praise:  Use simple , but specific , praise phrases that clearly identify the \\r\\ndesired behaviors. For example, “ Larry, t hank you for raising your hand before \\r\\nanswering the question” lets the student know the specific behavior and condition for which he was praised . General praise (e.g., “good job”) is less meaningful for \\r\\nstudents .   \\r\\n o Verbal Redirection: Many students with ADHD  require frequent redirect ion.  \\r\\nRedirect students using clear, concise, and inconspicuously delivered verbal cues  \\r\\nto remind students of desired behaviors, rather than long explanations.  \\r\\n o Corrective Feedback:  Some student s with ADHD require brief, simple   paper8.pdf            9    0.995308\n"
     ]
    }
   ],
   "source": [
    "# === Load the .docx file ===\n",
    "doc_path = 'adhd_sample_child_prompts\\profile1.docx'  # Update this path\n",
    "doc = Document(doc_path)\n",
    "\n",
    "# === Combine all paragraphs into a single string ===\n",
    "prompt_text = \"\\n\".join([para.text for para in doc.paragraphs if para.text.strip() != \"\"])\n",
    "\n",
    "prompt_embedding = get_embedding(prompt_text).reshape(1, -1)\n",
    "\n",
    "# === Compute Cosine Similarity and Retrieve Top-k Chunks ===\n",
    "similarities = cosine_similarity(prompt_embedding, embedding_matrix).flatten()\n",
    "top_k = 5  # Change this to any number of top results\n",
    "top_k_indices = similarities.argsort()[-top_k:][::-1]\n",
    "\n",
    "# === Display Top-k Chunks ===\n",
    "top_chunks = df.iloc[top_k_indices][['chunk', 'source_file', 'page_number']]\n",
    "top_chunks['similarity'] = similarities[top_k_indices]\n",
    "\n",
    "# === Print Results ===\n",
    "print(\"\\nTop-K Most Similar Chunks:\\n\")\n",
    "print(top_chunks.to_string(index=False))\n"
   ]
  },
  {
   "cell_type": "code",
   "execution_count": 3,
   "id": "33a4d89c",
   "metadata": {},
   "outputs": [
    {
     "name": "stdout",
     "output_type": "stream",
     "text": [
      "\n",
      "Top-K Most Similar Chunks:\n",
      "\n",
      "                                                                                                                                                                                                                                                                                                                                                                                                                                                                                                                                                                                                                                                                                                                                                                                                                                                                                                                                                                                                                                                                                                                                                                                                                                                                                                                                                                                                                                                                                                       chunk source_file  page_number  similarity\n",
      "                                                                                                                                                                                                        10 \\r\\nConsiderations: ADHD  \\r\\nT/TAC W&M, 1 -800-323-4489 \\r\\nUpdated July 2017 • E-mail: Provide par ents with an e-mail address to increase timely communication .  If \\r\\nthey do not have easy access to e -mail, provide them with telephone numbers and optimal \\r\\ntimes for calling.   \\r\\n \\r\\n• Websites: A homework website that provides assignments for the week is very helpf ul to \\r\\nparents  and guardians  of students with ADHD.  Class news regarding projects and the \\r\\nweek’s instructional topics can also be posted.  \\r\\n \\r\\n• Homework Hotline: A  homework hotline that gives the assignments for the night and  \\r\\nalso provides helpful suggestions for completing them  can help families support their \\r\\nchildren’s work completion.  \\r\\n \\r\\nWord of Caution  \\r\\n \\r\\nMedications are often part of the treatment plan for students with ADHD.  Only medical \\r\\nprofessionals can diagnose ADHD and prescribe medications.  Educators should share the behaviors they are observing in the classroom with family but refrain from suggesting medical conditions such as ADHD or recommending medications to treat them. \\r\\n \\r\\nConclusion  \\r\\n \\r\\nAddressing the needs of students with A DHD is  complex and  requires teachers to assess not only   paper8.pdf           10    0.988723\n",
      "                The first step in creating classroom supports for students with ADHD is understand ing the \\r\\nstudents’ strengths and needs . This involves formal and informal assessment, as well as \\r\\ncollaboration among  educational professionals and the  students’ families .  If a student is not \\r\\nresponsive  to behavioral strategies and interventions , more intensive interventions , such as \\r\\nfunctional behavior  assessment and behavior intervention plan s, should be considered (see \\r\\nPractical FBA ).  No one intervention is universally effective for all students with ADHD.  A \\r\\ncombination of research -based and promising practices is recommended.  Several of these \\r\\npractices are described below.  \\r\\n \\r\\n• Giving D irections  \\r\\nMany students with ADHD have trouble following directions.  The guidelines below help address this problem.  \\r\\n \\r\\no Number of Directions: Give a minimal number of directions or  steps at a time.  \\r\\nIf necessary, have s tudents repeat the directions to the teacher or a peer partner.  \\r\\n o Form of Directions:  Provide written  directions  or steps,  or a visua l model of a \\r\\ncompleted project. Teach students how to refer to these items  as reminders of \\r\\nprocess steps  to complete tasks . This strategy is particularly helpful for long -term \\r\\nprojects.  \\r\\n \\r\\n• Written Assignments  \\r\\nMany students with ADHD have particular challenges  with written  work due to fine -  paper8.pdf            3    0.988203\n",
      "                                                                                                                                                                                                                                                                                                                           (Kasper et al., 2012 ). This impairment manifests in several\\r\\nways: interruptions during multi-step tasks, forgetfulness of\\r\\nimportant information, and challenges in emotional regulation\\r\\nand impulse control ( Koﬂer et al., 2018 ;Ramos et al., 2020 ).\\r\\nTwo primary theoretical models explain the relationship between\\r\\nADHD and working memory. Barkley’s response inhibition\\r\\nmodel suggests that deﬁcient response inhibition is the primary\\r\\nimpairment, leading to executive function deﬁcits including\\r\\nworking memory problems, which result in hyperactivity,\\r\\nimpulsivity, and inattention symptoms ( Barkley, 1997 ). The\\r\\nalternative working memory model, drawing from Baddeley and\\r\\nHitch’s multi-component theory, positions working memory\\r\\ndeﬁcits as a core feature of ADHD ( Rapport et al., 2001 ).\\r\\nThis model, based on Baddeley and Hitch’s multi-component\\r\\nworking memory theory, includes four elements: the central\\r\\nexecutive system, phonological loop, visuospatial sketchpad,\\r\\nand the episodic buﬀer, which work together to coordinate the\\r\\nstorage and processing of information ( RepovŠ and Baddeley, paper14.pdf            2    0.987749\n",
      "                                                                                                                                                                                                                                                                           “Practicing recall”, working memory is considered with repeti -\\r\\ntion of information, mnemonic techniques are used and students \\r\\nmust be able to recall and recognize information using auditory \\r\\nand visual memory(8). \\r\\nPrasannakummar and Saminathan(17) carried out an inter -\\r\\nvention study for science teaching, with an experimental group \\r\\n(using MIAM) and a control group (traditional teaching \\r\\nmethod), and concluded that MIAM improved student per -\\r\\nformance and contributed to a “meaningful and joyful learning”, \\r\\nsuggesting that multisensory integration be used at all educa -\\r\\ntional levels, in order to optimize learning.\\r\\nMIAM has the potential to favor/optimize students’ lear -\\r\\nning. When inserted in lesson planning, in line with instructio -\\r\\nnal objectives and the desired assessment format, it is possible \\r\\nto create an external environment in the classroom that arouse \\r\\ndifferent sensory perceptions, with the potential to help in the \\r\\nexisting relationship between working memory and long-term \\r\\nmemory (new subjects and previous knowledge). Indeed, activi -\\r\\nties that require movement and the sense of touch make students  paper20.pdf            2    0.987725\n",
      "interventions, assess the long-term sustainability of intervention\\r\\neﬀects, and test their feasibility in real classroom settings.\\r\\nAdditionally, optimizing the frequency, intensity, and duration\\r\\nof interventions through interdisciplinary collaboration would\\r\\nhelp maximize improvements in working memory. These eﬀorts\\r\\nwould collectively advance both the theoretical understanding\\r\\nand practical application of exercise interventions for children\\r\\nwithADHD.\\r\\n/five.tnum Conclusion\\r\\nConcluding, this study used network meta-analysis to\\r\\ninvestigate the eﬀects of diﬀerent types of exercise interventions\\r\\non working memory in children with ADHD. The results indicate\\r\\nthat cognitive-aerobic exercise and ball sports are signiﬁcantly\\r\\nmore eﬀective than other types of exercise interventions in\\r\\nimproving working memory. This diﬀerence may be attributed\\r\\nto the varying cognitive load, task complexity, and the degree of\\r\\nactivation of executive functions across diﬀerent exercise types.The ﬁndings suggest that when designing exercise interventions\\r\\nforchildrenwithADHD,priorityshouldbegiventoexercisetypes\\r\\nwith higher cognitive load in order to more eﬀectively enhance\\r\\nworkingmemory.\\r\\nData availability statement\\r\\nThe original contributions presented in the study are included\\r\\nin the article/ Supplementarymaterial , further inquiries can be\\r\\ndirectedtothecorrespondingauthor.\\r\\nAuthor contributions paper14.pdf           11    0.987723\n"
     ]
    }
   ],
   "source": [
    "# === Load the .docx file ===\n",
    "doc_path = 'adhd_sample_child_prompts\\profile2.docx'  # Update this path\n",
    "doc = Document(doc_path)\n",
    "\n",
    "# === Combine all paragraphs into a single string ===\n",
    "prompt_text = \"\\n\".join([para.text for para in doc.paragraphs if para.text.strip() != \"\"])\n",
    "\n",
    "prompt_embedding = get_embedding(prompt_text).reshape(1, -1)\n",
    "\n",
    "# === Compute Cosine Similarity and Retrieve Top-k Chunks ===\n",
    "similarities = cosine_similarity(prompt_embedding, embedding_matrix).flatten()\n",
    "top_k = 5  # Change this to any number of top results\n",
    "top_k_indices = similarities.argsort()[-top_k:][::-1]\n",
    "\n",
    "# === Display Top-k Chunks ===\n",
    "top_chunks = df.iloc[top_k_indices][['chunk', 'source_file', 'page_number']]\n",
    "top_chunks['similarity'] = similarities[top_k_indices]\n",
    "\n",
    "# === Print Results ===\n",
    "print(\"\\nTop-K Most Similar Chunks:\\n\")\n",
    "print(top_chunks.to_string(index=False))\n"
   ]
  },
  {
   "cell_type": "code",
   "execution_count": 4,
   "id": "1e784db4",
   "metadata": {},
   "outputs": [
    {
     "name": "stdout",
     "output_type": "stream",
     "text": [
      "\n",
      "Top-K Most Similar Chunks:\n",
      "\n",
      "                                                                                                                                                                                                                                                                                                                                                                                                                                                                                                                                                                                                                                                                                                                                                                                                                                                                                                                                                                                                                                                                                                                                                                                                                                                                                                                                                                                                                                                                                                       chunk source_file  page_number  similarity\n",
      "                                                                                                                                                                                                        10 \\r\\nConsiderations: ADHD  \\r\\nT/TAC W&M, 1 -800-323-4489 \\r\\nUpdated July 2017 • E-mail: Provide par ents with an e-mail address to increase timely communication .  If \\r\\nthey do not have easy access to e -mail, provide them with telephone numbers and optimal \\r\\ntimes for calling.   \\r\\n \\r\\n• Websites: A homework website that provides assignments for the week is very helpf ul to \\r\\nparents  and guardians  of students with ADHD.  Class news regarding projects and the \\r\\nweek’s instructional topics can also be posted.  \\r\\n \\r\\n• Homework Hotline: A  homework hotline that gives the assignments for the night and  \\r\\nalso provides helpful suggestions for completing them  can help families support their \\r\\nchildren’s work completion.  \\r\\n \\r\\nWord of Caution  \\r\\n \\r\\nMedications are often part of the treatment plan for students with ADHD.  Only medical \\r\\nprofessionals can diagnose ADHD and prescribe medications.  Educators should share the behaviors they are observing in the classroom with family but refrain from suggesting medical conditions such as ADHD or recommending medications to treat them. \\r\\n \\r\\nConclusion  \\r\\n \\r\\nAddressing the needs of students with A DHD is  complex and  requires teachers to assess not only   paper8.pdf           10    0.990560\n",
      "                The first step in creating classroom supports for students with ADHD is understand ing the \\r\\nstudents’ strengths and needs . This involves formal and informal assessment, as well as \\r\\ncollaboration among  educational professionals and the  students’ families .  If a student is not \\r\\nresponsive  to behavioral strategies and interventions , more intensive interventions , such as \\r\\nfunctional behavior  assessment and behavior intervention plan s, should be considered (see \\r\\nPractical FBA ).  No one intervention is universally effective for all students with ADHD.  A \\r\\ncombination of research -based and promising practices is recommended.  Several of these \\r\\npractices are described below.  \\r\\n \\r\\n• Giving D irections  \\r\\nMany students with ADHD have trouble following directions.  The guidelines below help address this problem.  \\r\\n \\r\\no Number of Directions: Give a minimal number of directions or  steps at a time.  \\r\\nIf necessary, have s tudents repeat the directions to the teacher or a peer partner.  \\r\\n o Form of Directions:  Provide written  directions  or steps,  or a visua l model of a \\r\\ncompleted project. Teach students how to refer to these items  as reminders of \\r\\nprocess steps  to complete tasks . This strategy is particularly helpful for long -term \\r\\nprojects.  \\r\\n \\r\\n• Written Assignments  \\r\\nMany students with ADHD have particular challenges  with written  work due to fine -  paper8.pdf            3    0.990559\n",
      "                                                                                                                                                                                                                                                                   ADHD. We provide an overview of the mechanisms underlying\\r\\nthe therapeutic benefit of working memory training and identify\\r\\nnovel directions for research to improve ADHD treatment\\r\\nprotocols.\\r\\nWORKING MEMORY\\r\\nWorking memory refers to the active mental workspace that\\r\\ncan briefly hold and manipulate information (Fang et al., 2016).\\r\\nWorking memory capacity determines the rate and level of\\r\\nlearning and predicts performance on mental tasks such as\\r\\nreading comprehension, language acquisition, reasoning, and\\r\\nproblem-solving (Fang et al., 2016; Emch et al., 2019).\\r\\nWorking memory is a hierarchical process that connects\\r\\ndetailed sensory representations to specific behavioural\\r\\nresponses. These are linked viaintermediate task-relevant\\r\\nrepresentations and action plans in a network of different brain\\r\\nareas (Christophel et al., 2017).\\r\\nWorking memory plays a fundamental role in cognition,\\r\\nallowing one to hold information ‘‘in mind.’’ Working memory\\r\\nis defined by its flexibility: people are capable of storing, at least\\r\\ntemporarily, any information. According to Baddeley’s multi-\\r\\nelement model of working memory, considered the predominant paper12.pdf            3    0.990369\n",
      "                                                                                                                                                                                                               memory,theymaylackthehighcognitiveloadstimulationrequired\\r\\nfor direct improvements. Virtual sports-based interactive games\\r\\nprimarily focus on enhancing children’s social interaction and\\r\\ncooperation experiences, such as motivating participants through\\r\\ncollaborative tasks or fun competitions in virtual environments.\\r\\nAlthoughthesegameshaveapositiveimpactonthesocialbehavior\\r\\nand emotional regulation of children with ADHD ( Ochi et al.,\\r\\n2024;Zhao et al., 2022 ), their lower task complexity and memory\\r\\nload requirements mean they are less eﬀective than cognitive-\\r\\naerobic exercise and ball sports in directly improving working\\r\\nmemory. The cognitive challenges in these games are limited and\\r\\ngenerally do not involve high-intensity memory tasks or complex\\r\\ndecision-making, making their direct impact on working memory\\r\\nrelativelymodest.\\r\\nOn the other hand, the eﬀect of regular aerobic exercise\\r\\nis the weakest (SMD =0.40), which may be attributed to its\\r\\nsimpler exercise format and lower cognitive load. Activities like\\r\\nrunningandskipping,whileimprovingoverallphysicalﬁtnessand\\r\\nstimulating dopamine secretion, can help children with ADHDmaintain attention in the short term ( Kuo et al., 2024 ;Ren paper14.pdf           10    0.990129\n",
      "interventions, assess the long-term sustainability of intervention\\r\\neﬀects, and test their feasibility in real classroom settings.\\r\\nAdditionally, optimizing the frequency, intensity, and duration\\r\\nof interventions through interdisciplinary collaboration would\\r\\nhelp maximize improvements in working memory. These eﬀorts\\r\\nwould collectively advance both the theoretical understanding\\r\\nand practical application of exercise interventions for children\\r\\nwithADHD.\\r\\n/five.tnum Conclusion\\r\\nConcluding, this study used network meta-analysis to\\r\\ninvestigate the eﬀects of diﬀerent types of exercise interventions\\r\\non working memory in children with ADHD. The results indicate\\r\\nthat cognitive-aerobic exercise and ball sports are signiﬁcantly\\r\\nmore eﬀective than other types of exercise interventions in\\r\\nimproving working memory. This diﬀerence may be attributed\\r\\nto the varying cognitive load, task complexity, and the degree of\\r\\nactivation of executive functions across diﬀerent exercise types.The ﬁndings suggest that when designing exercise interventions\\r\\nforchildrenwithADHD,priorityshouldbegiventoexercisetypes\\r\\nwith higher cognitive load in order to more eﬀectively enhance\\r\\nworkingmemory.\\r\\nData availability statement\\r\\nThe original contributions presented in the study are included\\r\\nin the article/ Supplementarymaterial , further inquiries can be\\r\\ndirectedtothecorrespondingauthor.\\r\\nAuthor contributions paper14.pdf           11    0.990027\n"
     ]
    }
   ],
   "source": [
    "# === Load the .docx file ===\n",
    "doc_path = 'adhd_sample_child_prompts\\profile3.docx'  # Update this path\n",
    "doc = Document(doc_path)\n",
    "\n",
    "# === Combine all paragraphs into a single string ===\n",
    "prompt_text = \"\\n\".join([para.text for para in doc.paragraphs if para.text.strip() != \"\"])\n",
    "\n",
    "prompt_embedding = get_embedding(prompt_text).reshape(1, -1)\n",
    "\n",
    "# === Compute Cosine Similarity and Retrieve Top-k Chunks ===\n",
    "similarities = cosine_similarity(prompt_embedding, embedding_matrix).flatten()\n",
    "top_k = 5  # Change this to any number of top results\n",
    "top_k_indices = similarities.argsort()[-top_k:][::-1]\n",
    "\n",
    "# === Display Top-k Chunks ===\n",
    "top_chunks = df.iloc[top_k_indices][['chunk', 'source_file', 'page_number']]\n",
    "top_chunks['similarity'] = similarities[top_k_indices]\n",
    "\n",
    "# === Print Results ===\n",
    "print(\"\\nTop-K Most Similar Chunks:\\n\")\n",
    "print(top_chunks.to_string(index=False))\n"
   ]
  }
 ],
 "metadata": {
  "kernelspec": {
   "display_name": "Python 3",
   "language": "python",
   "name": "python3"
  },
  "language_info": {
   "codemirror_mode": {
    "name": "ipython",
    "version": 3
   },
   "file_extension": ".py",
   "mimetype": "text/x-python",
   "name": "python",
   "nbconvert_exporter": "python",
   "pygments_lexer": "ipython3",
   "version": "3.10.11"
  }
 },
 "nbformat": 4,
 "nbformat_minor": 5
}
